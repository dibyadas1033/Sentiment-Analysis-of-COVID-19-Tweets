{
 "cells": [
  {
   "cell_type": "markdown",
   "id": "dbea50d7",
   "metadata": {},
   "source": [
    "# Twitter Sentiment Analysis Of Covid 19 Dataset"
   ]
  },
  {
   "cell_type": "markdown",
   "id": "3ef6063b",
   "metadata": {},
   "source": [
    "### importing  Libraries"
   ]
  },
  {
   "cell_type": "code",
   "execution_count": 1,
   "id": "8c18b5b4",
   "metadata": {},
   "outputs": [],
   "source": [
    "import numpy as np\n",
    "import pandas as pd\n",
    "from sklearn.model_selection import train_test_split\n",
    "from sklearn.linear_model import LogisticRegression\n",
    "from sklearn.feature_extraction.text import TfidfVectorizer\n",
    "from sklearn.metrics import confusion_matrix, classification_report\n",
    "from sklearn.metrics import accuracy_score\n",
    "import seaborn as sns\n",
    "import matplotlib.pyplot as plt\n",
    "import re\n",
    "import nltk\n",
    "import string\n",
    "import warnings\n",
    "from nltk.corpus import stopwords\n",
    "#nltk.download('stopwords')\n",
    "warnings.filterwarnings('ignore')"
   ]
  },
  {
   "cell_type": "code",
   "execution_count": 2,
   "id": "e0262d8d",
   "metadata": {},
   "outputs": [],
   "source": [
    "#df = pd.read_csv('data/twitter_set.csv')\n"
   ]
  },
  {
   "cell_type": "markdown",
   "id": "9a8824ff",
   "metadata": {},
   "source": [
    "# 1) Data Gathering & overview :-"
   ]
  },
  {
   "cell_type": "code",
   "execution_count": 3,
   "id": "5cff79b2",
   "metadata": {},
   "outputs": [],
   "source": [
    "with open('Corona_NLP_train.csv', 'r', encoding='UTF-8', errors='replace') as f:\n",
    "    data = f.read()\n"
   ]
  },
  {
   "cell_type": "code",
   "execution_count": 4,
   "id": "36c76245",
   "metadata": {},
   "outputs": [],
   "source": [
    "data = pd.read_csv('Corona_NLP.csv',encoding='latin_1')\n"
   ]
  },
  {
   "cell_type": "code",
   "execution_count": 5,
   "id": "889c0268",
   "metadata": {},
   "outputs": [
    {
     "data": {
      "text/html": [
       "<div>\n",
       "<style scoped>\n",
       "    .dataframe tbody tr th:only-of-type {\n",
       "        vertical-align: middle;\n",
       "    }\n",
       "\n",
       "    .dataframe tbody tr th {\n",
       "        vertical-align: top;\n",
       "    }\n",
       "\n",
       "    .dataframe thead th {\n",
       "        text-align: right;\n",
       "    }\n",
       "</style>\n",
       "<table border=\"1\" class=\"dataframe\">\n",
       "  <thead>\n",
       "    <tr style=\"text-align: right;\">\n",
       "      <th></th>\n",
       "      <th>UserName</th>\n",
       "      <th>ScreenName</th>\n",
       "      <th>Location</th>\n",
       "      <th>TweetAt</th>\n",
       "      <th>Sentiment</th>\n",
       "      <th>OriginalTweet</th>\n",
       "    </tr>\n",
       "  </thead>\n",
       "  <tbody>\n",
       "    <tr>\n",
       "      <th>0</th>\n",
       "      <td>3799</td>\n",
       "      <td>48751</td>\n",
       "      <td>London</td>\n",
       "      <td>16-03-2020</td>\n",
       "      <td>Neutral</td>\n",
       "      <td>@MeNyrbie @Phil_Gahan @Chrisitv https://t.co/i...</td>\n",
       "    </tr>\n",
       "    <tr>\n",
       "      <th>1</th>\n",
       "      <td>3800</td>\n",
       "      <td>48752</td>\n",
       "      <td>UK</td>\n",
       "      <td>16-03-2020</td>\n",
       "      <td>Positive</td>\n",
       "      <td>advice Talk to your neighbours family to excha...</td>\n",
       "    </tr>\n",
       "    <tr>\n",
       "      <th>2</th>\n",
       "      <td>3801</td>\n",
       "      <td>48753</td>\n",
       "      <td>Vagabonds</td>\n",
       "      <td>16-03-2020</td>\n",
       "      <td>Positive</td>\n",
       "      <td>Coronavirus Australia: Woolworths to give elde...</td>\n",
       "    </tr>\n",
       "    <tr>\n",
       "      <th>3</th>\n",
       "      <td>3802</td>\n",
       "      <td>48754</td>\n",
       "      <td>NaN</td>\n",
       "      <td>16-03-2020</td>\n",
       "      <td>Positive</td>\n",
       "      <td>My food stock is not the only one which is emp...</td>\n",
       "    </tr>\n",
       "    <tr>\n",
       "      <th>4</th>\n",
       "      <td>3803</td>\n",
       "      <td>48755</td>\n",
       "      <td>NaN</td>\n",
       "      <td>16-03-2020</td>\n",
       "      <td>Negative</td>\n",
       "      <td>Me, ready to go at supermarket during the #COV...</td>\n",
       "    </tr>\n",
       "    <tr>\n",
       "      <th>5</th>\n",
       "      <td>3804</td>\n",
       "      <td>48756</td>\n",
       "      <td>ÃT: 36.319708,-82.363649</td>\n",
       "      <td>16-03-2020</td>\n",
       "      <td>Positive</td>\n",
       "      <td>As news of the regionÂs first confirmed COVID...</td>\n",
       "    </tr>\n",
       "    <tr>\n",
       "      <th>6</th>\n",
       "      <td>3805</td>\n",
       "      <td>48757</td>\n",
       "      <td>35.926541,-78.753267</td>\n",
       "      <td>16-03-2020</td>\n",
       "      <td>Positive</td>\n",
       "      <td>Cashier at grocery store was sharing his insig...</td>\n",
       "    </tr>\n",
       "    <tr>\n",
       "      <th>7</th>\n",
       "      <td>3806</td>\n",
       "      <td>48758</td>\n",
       "      <td>Austria</td>\n",
       "      <td>16-03-2020</td>\n",
       "      <td>Neutral</td>\n",
       "      <td>Was at the supermarket today. Didn't buy toile...</td>\n",
       "    </tr>\n",
       "    <tr>\n",
       "      <th>8</th>\n",
       "      <td>3807</td>\n",
       "      <td>48759</td>\n",
       "      <td>Atlanta, GA USA</td>\n",
       "      <td>16-03-2020</td>\n",
       "      <td>Positive</td>\n",
       "      <td>Due to COVID-19 our retail store and classroom...</td>\n",
       "    </tr>\n",
       "    <tr>\n",
       "      <th>9</th>\n",
       "      <td>3808</td>\n",
       "      <td>48760</td>\n",
       "      <td>BHAVNAGAR,GUJRAT</td>\n",
       "      <td>16-03-2020</td>\n",
       "      <td>Negative</td>\n",
       "      <td>For corona prevention,we should stop to buy th...</td>\n",
       "    </tr>\n",
       "  </tbody>\n",
       "</table>\n",
       "</div>"
      ],
      "text/plain": [
       "   UserName  ScreenName                   Location     TweetAt Sentiment  \\\n",
       "0      3799       48751                     London  16-03-2020   Neutral   \n",
       "1      3800       48752                         UK  16-03-2020  Positive   \n",
       "2      3801       48753                  Vagabonds  16-03-2020  Positive   \n",
       "3      3802       48754                        NaN  16-03-2020  Positive   \n",
       "4      3803       48755                        NaN  16-03-2020  Negative   \n",
       "5      3804       48756  ÃT: 36.319708,-82.363649  16-03-2020  Positive   \n",
       "6      3805       48757       35.926541,-78.753267  16-03-2020  Positive   \n",
       "7      3806       48758                    Austria  16-03-2020   Neutral   \n",
       "8      3807       48759            Atlanta, GA USA  16-03-2020  Positive   \n",
       "9      3808       48760           BHAVNAGAR,GUJRAT  16-03-2020  Negative   \n",
       "\n",
       "                                       OriginalTweet  \n",
       "0  @MeNyrbie @Phil_Gahan @Chrisitv https://t.co/i...  \n",
       "1  advice Talk to your neighbours family to excha...  \n",
       "2  Coronavirus Australia: Woolworths to give elde...  \n",
       "3  My food stock is not the only one which is emp...  \n",
       "4  Me, ready to go at supermarket during the #COV...  \n",
       "5  As news of the regionÂs first confirmed COVID...  \n",
       "6  Cashier at grocery store was sharing his insig...  \n",
       "7  Was at the supermarket today. Didn't buy toile...  \n",
       "8  Due to COVID-19 our retail store and classroom...  \n",
       "9  For corona prevention,we should stop to buy th...  "
      ]
     },
     "execution_count": 5,
     "metadata": {},
     "output_type": "execute_result"
    }
   ],
   "source": [
    "data.head(10)"
   ]
  },
  {
   "cell_type": "code",
   "execution_count": 6,
   "id": "4dac606b",
   "metadata": {},
   "outputs": [],
   "source": [
    "data.rename(columns = {'OriginalTweet':'Tweet content'}, inplace = True)"
   ]
  },
  {
   "cell_type": "code",
   "execution_count": 7,
   "id": "1c12517e",
   "metadata": {},
   "outputs": [
    {
     "data": {
      "text/plain": [
       "41157"
      ]
     },
     "execution_count": 7,
     "metadata": {},
     "output_type": "execute_result"
    }
   ],
   "source": [
    "len(data)"
   ]
  },
  {
   "cell_type": "code",
   "execution_count": 8,
   "id": "2c1b8e8e",
   "metadata": {},
   "outputs": [
    {
     "data": {
      "text/plain": [
       "pandas.core.frame.DataFrame"
      ]
     },
     "execution_count": 8,
     "metadata": {},
     "output_type": "execute_result"
    }
   ],
   "source": [
    "type(data)"
   ]
  },
  {
   "cell_type": "code",
   "execution_count": 9,
   "id": "84043066",
   "metadata": {},
   "outputs": [
    {
     "data": {
      "text/html": [
       "<div>\n",
       "<style scoped>\n",
       "    .dataframe tbody tr th:only-of-type {\n",
       "        vertical-align: middle;\n",
       "    }\n",
       "\n",
       "    .dataframe tbody tr th {\n",
       "        vertical-align: top;\n",
       "    }\n",
       "\n",
       "    .dataframe thead th {\n",
       "        text-align: right;\n",
       "    }\n",
       "</style>\n",
       "<table border=\"1\" class=\"dataframe\">\n",
       "  <thead>\n",
       "    <tr style=\"text-align: right;\">\n",
       "      <th></th>\n",
       "      <th>UserName</th>\n",
       "      <th>ScreenName</th>\n",
       "      <th>Location</th>\n",
       "      <th>TweetAt</th>\n",
       "      <th>Sentiment</th>\n",
       "      <th>Tweet content</th>\n",
       "    </tr>\n",
       "  </thead>\n",
       "  <tbody>\n",
       "    <tr>\n",
       "      <th>0</th>\n",
       "      <td>3799</td>\n",
       "      <td>48751</td>\n",
       "      <td>London</td>\n",
       "      <td>16-03-2020</td>\n",
       "      <td>Neutral</td>\n",
       "      <td>@MeNyrbie @Phil_Gahan @Chrisitv https://t.co/i...</td>\n",
       "    </tr>\n",
       "    <tr>\n",
       "      <th>1</th>\n",
       "      <td>3800</td>\n",
       "      <td>48752</td>\n",
       "      <td>UK</td>\n",
       "      <td>16-03-2020</td>\n",
       "      <td>Positive</td>\n",
       "      <td>advice Talk to your neighbours family to excha...</td>\n",
       "    </tr>\n",
       "    <tr>\n",
       "      <th>2</th>\n",
       "      <td>3801</td>\n",
       "      <td>48753</td>\n",
       "      <td>Vagabonds</td>\n",
       "      <td>16-03-2020</td>\n",
       "      <td>Positive</td>\n",
       "      <td>Coronavirus Australia: Woolworths to give elde...</td>\n",
       "    </tr>\n",
       "    <tr>\n",
       "      <th>3</th>\n",
       "      <td>3802</td>\n",
       "      <td>48754</td>\n",
       "      <td>NaN</td>\n",
       "      <td>16-03-2020</td>\n",
       "      <td>Positive</td>\n",
       "      <td>My food stock is not the only one which is emp...</td>\n",
       "    </tr>\n",
       "    <tr>\n",
       "      <th>4</th>\n",
       "      <td>3803</td>\n",
       "      <td>48755</td>\n",
       "      <td>NaN</td>\n",
       "      <td>16-03-2020</td>\n",
       "      <td>Negative</td>\n",
       "      <td>Me, ready to go at supermarket during the #COV...</td>\n",
       "    </tr>\n",
       "  </tbody>\n",
       "</table>\n",
       "</div>"
      ],
      "text/plain": [
       "   UserName  ScreenName   Location     TweetAt Sentiment  \\\n",
       "0      3799       48751     London  16-03-2020   Neutral   \n",
       "1      3800       48752         UK  16-03-2020  Positive   \n",
       "2      3801       48753  Vagabonds  16-03-2020  Positive   \n",
       "3      3802       48754        NaN  16-03-2020  Positive   \n",
       "4      3803       48755        NaN  16-03-2020  Negative   \n",
       "\n",
       "                                       Tweet content  \n",
       "0  @MeNyrbie @Phil_Gahan @Chrisitv https://t.co/i...  \n",
       "1  advice Talk to your neighbours family to excha...  \n",
       "2  Coronavirus Australia: Woolworths to give elde...  \n",
       "3  My food stock is not the only one which is emp...  \n",
       "4  Me, ready to go at supermarket during the #COV...  "
      ]
     },
     "execution_count": 9,
     "metadata": {},
     "output_type": "execute_result"
    }
   ],
   "source": [
    "data.head()\n"
   ]
  },
  {
   "cell_type": "code",
   "execution_count": 10,
   "id": "88ea936f",
   "metadata": {},
   "outputs": [
    {
     "data": {
      "text/html": [
       "<div>\n",
       "<style scoped>\n",
       "    .dataframe tbody tr th:only-of-type {\n",
       "        vertical-align: middle;\n",
       "    }\n",
       "\n",
       "    .dataframe tbody tr th {\n",
       "        vertical-align: top;\n",
       "    }\n",
       "\n",
       "    .dataframe thead th {\n",
       "        text-align: right;\n",
       "    }\n",
       "</style>\n",
       "<table border=\"1\" class=\"dataframe\">\n",
       "  <thead>\n",
       "    <tr style=\"text-align: right;\">\n",
       "      <th></th>\n",
       "      <th>UserName</th>\n",
       "      <th>ScreenName</th>\n",
       "      <th>Location</th>\n",
       "      <th>TweetAt</th>\n",
       "      <th>Sentiment</th>\n",
       "      <th>Tweet content</th>\n",
       "    </tr>\n",
       "  </thead>\n",
       "  <tbody>\n",
       "    <tr>\n",
       "      <th>41152</th>\n",
       "      <td>44951</td>\n",
       "      <td>89903</td>\n",
       "      <td>Wellington City, New Zealand</td>\n",
       "      <td>14-04-2020</td>\n",
       "      <td>Neutral</td>\n",
       "      <td>Airline pilots offering to stock supermarket s...</td>\n",
       "    </tr>\n",
       "    <tr>\n",
       "      <th>41153</th>\n",
       "      <td>44952</td>\n",
       "      <td>89904</td>\n",
       "      <td>NaN</td>\n",
       "      <td>14-04-2020</td>\n",
       "      <td>Negative</td>\n",
       "      <td>Response to complaint not provided citing COVI...</td>\n",
       "    </tr>\n",
       "    <tr>\n",
       "      <th>41154</th>\n",
       "      <td>44953</td>\n",
       "      <td>89905</td>\n",
       "      <td>NaN</td>\n",
       "      <td>14-04-2020</td>\n",
       "      <td>Positive</td>\n",
       "      <td>You know itÂs getting tough when @KameronWild...</td>\n",
       "    </tr>\n",
       "    <tr>\n",
       "      <th>41155</th>\n",
       "      <td>44954</td>\n",
       "      <td>89906</td>\n",
       "      <td>NaN</td>\n",
       "      <td>14-04-2020</td>\n",
       "      <td>Neutral</td>\n",
       "      <td>Is it wrong that the smell of hand sanitizer i...</td>\n",
       "    </tr>\n",
       "    <tr>\n",
       "      <th>41156</th>\n",
       "      <td>44955</td>\n",
       "      <td>89907</td>\n",
       "      <td>i love you so much || he/him</td>\n",
       "      <td>14-04-2020</td>\n",
       "      <td>Negative</td>\n",
       "      <td>@TartiiCat Well new/used Rift S are going for ...</td>\n",
       "    </tr>\n",
       "  </tbody>\n",
       "</table>\n",
       "</div>"
      ],
      "text/plain": [
       "       UserName  ScreenName                      Location     TweetAt  \\\n",
       "41152     44951       89903  Wellington City, New Zealand  14-04-2020   \n",
       "41153     44952       89904                           NaN  14-04-2020   \n",
       "41154     44953       89905                           NaN  14-04-2020   \n",
       "41155     44954       89906                           NaN  14-04-2020   \n",
       "41156     44955       89907  i love you so much || he/him  14-04-2020   \n",
       "\n",
       "      Sentiment                                      Tweet content  \n",
       "41152   Neutral  Airline pilots offering to stock supermarket s...  \n",
       "41153  Negative  Response to complaint not provided citing COVI...  \n",
       "41154  Positive  You know itÂs getting tough when @KameronWild...  \n",
       "41155   Neutral  Is it wrong that the smell of hand sanitizer i...  \n",
       "41156  Negative  @TartiiCat Well new/used Rift S are going for ...  "
      ]
     },
     "execution_count": 10,
     "metadata": {},
     "output_type": "execute_result"
    }
   ],
   "source": [
    "# last 5 rows of the dataset\n",
    "data.tail()"
   ]
  },
  {
   "cell_type": "code",
   "execution_count": 11,
   "id": "9d48c8e3",
   "metadata": {},
   "outputs": [
    {
     "name": "stdout",
     "output_type": "stream",
     "text": [
      "<class 'pandas.core.frame.DataFrame'>\n",
      "RangeIndex: 41157 entries, 0 to 41156\n",
      "Data columns (total 6 columns):\n",
      " #   Column         Non-Null Count  Dtype \n",
      "---  ------         --------------  ----- \n",
      " 0   UserName       41157 non-null  int64 \n",
      " 1   ScreenName     41157 non-null  int64 \n",
      " 2   Location       32567 non-null  object\n",
      " 3   TweetAt        41157 non-null  object\n",
      " 4   Sentiment      41157 non-null  object\n",
      " 5   Tweet content  41157 non-null  object\n",
      "dtypes: int64(2), object(4)\n",
      "memory usage: 1.9+ MB\n"
     ]
    }
   ],
   "source": [
    "# dataset information\n",
    "data.info()\n"
   ]
  },
  {
   "cell_type": "code",
   "execution_count": 12,
   "id": "1e1b06c7",
   "metadata": {},
   "outputs": [
    {
     "data": {
      "text/plain": [
       "UserName          int64\n",
       "ScreenName        int64\n",
       "Location         object\n",
       "TweetAt          object\n",
       "Sentiment        object\n",
       "Tweet content    object\n",
       "dtype: object"
      ]
     },
     "execution_count": 12,
     "metadata": {},
     "output_type": "execute_result"
    }
   ],
   "source": [
    "data.dtypes"
   ]
  },
  {
   "cell_type": "code",
   "execution_count": 13,
   "id": "7154cfc0",
   "metadata": {},
   "outputs": [
    {
     "data": {
      "text/plain": [
       "UserName            0\n",
       "ScreenName          0\n",
       "Location         8590\n",
       "TweetAt             0\n",
       "Sentiment           0\n",
       "Tweet content       0\n",
       "dtype: int64"
      ]
     },
     "execution_count": 13,
     "metadata": {},
     "output_type": "execute_result"
    }
   ],
   "source": [
    "# checking the number of missing values in each column\n",
    "data.isnull().sum()"
   ]
  },
  {
   "cell_type": "code",
   "execution_count": 14,
   "id": "11f311a4",
   "metadata": {},
   "outputs": [
    {
     "data": {
      "text/plain": [
       "Positive    18046\n",
       "Negative    15398\n",
       "Neutral      7713\n",
       "Name: Sentiment, dtype: int64"
      ]
     },
     "execution_count": 14,
     "metadata": {},
     "output_type": "execute_result"
    }
   ],
   "source": [
    "# distribution of TWITTER data set \n",
    "data['Sentiment'].value_counts()"
   ]
  },
  {
   "cell_type": "code",
   "execution_count": 15,
   "id": "16eac690",
   "metadata": {},
   "outputs": [],
   "source": [
    "p = data['Location'].value_counts()"
   ]
  },
  {
   "cell_type": "code",
   "execution_count": 16,
   "id": "df5c50a8",
   "metadata": {},
   "outputs": [
    {
     "data": {
      "text/plain": [
       "London                          540\n",
       "United States                   528\n",
       "London, England                 520\n",
       "New York, NY                    395\n",
       "Washington, DC                  373\n",
       "                               ... \n",
       "Staffordshire Moorlands           1\n",
       "Kithchener ON                     1\n",
       "Tulsa, Ok                         1\n",
       "Watford, South Oxhey, Bushey      1\n",
       "i love you so much || he/him      1\n",
       "Name: Location, Length: 12220, dtype: int64"
      ]
     },
     "execution_count": 16,
     "metadata": {},
     "output_type": "execute_result"
    }
   ],
   "source": [
    "p"
   ]
  },
  {
   "cell_type": "code",
   "execution_count": 17,
   "id": "b778aee5",
   "metadata": {},
   "outputs": [
    {
     "data": {
      "text/plain": [
       "<Axes: xlabel='Sentiment', ylabel='count'>"
      ]
     },
     "execution_count": 17,
     "metadata": {},
     "output_type": "execute_result"
    },
    {
     "data": {
      "image/png": "[encoded data removed]",
      "text/plain": [
       "<Figure size 640x480 with 1 Axes>"
      ]
     },
     "metadata": {},
     "output_type": "display_data"
    }
   ],
   "source": [
    "sns.set_theme(style=\"whitegrid\")\n",
    "sns.countplot(x = data[\"Sentiment\"])\n"
   ]
  },
  {
   "cell_type": "code",
   "execution_count": 18,
   "id": "50742a4b",
   "metadata": {
    "scrolled": true
   },
   "outputs": [],
   "source": [
    "# data['Sentiment'] = data['Sentiment'].replace(['Positive'], 1)\n",
    "# data['Sentiment'] = data['Sentiment'].replace(['Negative'], -1)\n",
    "# data['Sentiment'] = data['Sentiment'].replace(['Neutral'], 0)\n",
    "# data['Sentiment'] = data['Sentiment'].replace(['Irrelevant'], 9999)\n",
    "# data.head(50)"
   ]
  },
  {
   "cell_type": "code",
   "execution_count": 19,
   "id": "b284150f",
   "metadata": {},
   "outputs": [
    {
     "data": {
      "text/plain": [
       "Positive    18046\n",
       "Negative    15398\n",
       "Neutral      7713\n",
       "Name: Sentiment, dtype: int64"
      ]
     },
     "execution_count": 19,
     "metadata": {},
     "output_type": "execute_result"
    }
   ],
   "source": [
    "data['Sentiment'].value_counts()"
   ]
  },
  {
   "cell_type": "code",
   "execution_count": 20,
   "id": "1e69b050",
   "metadata": {},
   "outputs": [
    {
     "data": {
      "text/plain": [
       "UserName          int64\n",
       "ScreenName        int64\n",
       "Location         object\n",
       "TweetAt          object\n",
       "Sentiment        object\n",
       "Tweet content    object\n",
       "dtype: object"
      ]
     },
     "execution_count": 20,
     "metadata": {},
     "output_type": "execute_result"
    }
   ],
   "source": [
    "data.dtypes"
   ]
  },
  {
   "cell_type": "code",
   "execution_count": 21,
   "id": "f7657511",
   "metadata": {},
   "outputs": [
    {
     "data": {
      "text/html": [
       "<div>\n",
       "<style scoped>\n",
       "    .dataframe tbody tr th:only-of-type {\n",
       "        vertical-align: middle;\n",
       "    }\n",
       "\n",
       "    .dataframe tbody tr th {\n",
       "        vertical-align: top;\n",
       "    }\n",
       "\n",
       "    .dataframe thead th {\n",
       "        text-align: right;\n",
       "    }\n",
       "</style>\n",
       "<table border=\"1\" class=\"dataframe\">\n",
       "  <thead>\n",
       "    <tr style=\"text-align: right;\">\n",
       "      <th></th>\n",
       "      <th>UserName</th>\n",
       "      <th>Sentiment</th>\n",
       "      <th>ScreenName</th>\n",
       "      <th>Location</th>\n",
       "      <th>TweetAt</th>\n",
       "      <th>Tweet content</th>\n",
       "    </tr>\n",
       "  </thead>\n",
       "  <tbody>\n",
       "    <tr>\n",
       "      <th>0</th>\n",
       "      <td>3799</td>\n",
       "      <td>Neutral</td>\n",
       "      <td>1</td>\n",
       "      <td>1</td>\n",
       "      <td>1</td>\n",
       "      <td>1</td>\n",
       "    </tr>\n",
       "    <tr>\n",
       "      <th>1</th>\n",
       "      <td>3800</td>\n",
       "      <td>Positive</td>\n",
       "      <td>1</td>\n",
       "      <td>1</td>\n",
       "      <td>1</td>\n",
       "      <td>1</td>\n",
       "    </tr>\n",
       "    <tr>\n",
       "      <th>2</th>\n",
       "      <td>3801</td>\n",
       "      <td>Positive</td>\n",
       "      <td>1</td>\n",
       "      <td>1</td>\n",
       "      <td>1</td>\n",
       "      <td>1</td>\n",
       "    </tr>\n",
       "    <tr>\n",
       "      <th>3</th>\n",
       "      <td>3802</td>\n",
       "      <td>Positive</td>\n",
       "      <td>1</td>\n",
       "      <td>0</td>\n",
       "      <td>1</td>\n",
       "      <td>1</td>\n",
       "    </tr>\n",
       "    <tr>\n",
       "      <th>4</th>\n",
       "      <td>3803</td>\n",
       "      <td>Negative</td>\n",
       "      <td>1</td>\n",
       "      <td>0</td>\n",
       "      <td>1</td>\n",
       "      <td>1</td>\n",
       "    </tr>\n",
       "  </tbody>\n",
       "</table>\n",
       "</div>"
      ],
      "text/plain": [
       "   UserName Sentiment  ScreenName  Location  TweetAt  Tweet content\n",
       "0      3799   Neutral           1         1        1              1\n",
       "1      3800  Positive           1         1        1              1\n",
       "2      3801  Positive           1         1        1              1\n",
       "3      3802  Positive           1         0        1              1\n",
       "4      3803  Negative           1         0        1              1"
      ]
     },
     "execution_count": 21,
     "metadata": {},
     "output_type": "execute_result"
    }
   ],
   "source": [
    "#Count information per category\n",
    "plot1=data.groupby(by=[\"UserName\",\"Sentiment\"]).count().reset_index()\n",
    "plot1.head()"
   ]
  },
  {
   "cell_type": "markdown",
   "id": "0bd1bd20",
   "metadata": {},
   "source": [
    "# 2) Preprocessing Of Data \n",
    "\n"
   ]
  },
  {
   "cell_type": "markdown",
   "id": "0f6a15b1",
   "metadata": {},
   "source": [
    "#### 𝟏 - 𝐂𝐚𝐬𝐢𝐧𝐠\n",
    "#### 𝟐 - 𝐍𝐨𝐢𝐬𝐞 𝐑𝐞𝐦𝐨𝐯𝐚𝐥\n",
    "#### 𝟑 - 𝐓𝐨𝐤𝐞𝐧𝐢𝐳𝐚𝐭𝐢𝐨𝐧\n",
    "#### 𝟒 - 𝐒𝐭𝐨𝐩 𝐖𝐨𝐫𝐝 𝐑𝐞𝐦𝐨𝐯𝐚𝐥\n",
    "#### 𝟓 - 𝐓𝐞𝐱𝐭 𝐍𝐨𝐫𝐦𝐚𝐥𝐢𝐬𝐚𝐭𝐢𝐨𝐧"
   ]
  },
  {
   "cell_type": "code",
   "execution_count": 22,
   "id": "8de63095",
   "metadata": {},
   "outputs": [],
   "source": [
    "# convert all text into lowercase \n",
    "def convert_str(input_text):\n",
    "    return str(input_text).lower()\n",
    "\n",
    "# remove all pattern in the input text \n",
    "def remove_pattern(input_txt,pattern):\n",
    "    r = re.findall(pattern,str(input_txt))\n",
    "    for word in r:\n",
    "        input_txt = re.sub(word,\"\",input_txt)\n",
    "    return input_txt\n",
    "        \n",
    "        "
   ]
  },
  {
   "cell_type": "code",
   "execution_count": 23,
   "id": "57490b44",
   "metadata": {},
   "outputs": [],
   "source": [
    "# np.vectorize(convert_str)(data['Tweet content'])"
   ]
  },
  {
   "cell_type": "code",
   "execution_count": 24,
   "id": "75f19921",
   "metadata": {},
   "outputs": [],
   "source": [
    "# convert all text into lowercase \n",
    "data['clean_tweet'] = np.vectorize(convert_str)(data['Tweet content'])"
   ]
  },
  {
   "cell_type": "code",
   "execution_count": 25,
   "id": "4d52484f",
   "metadata": {
    "scrolled": true
   },
   "outputs": [
    {
     "data": {
      "text/html": [
       "<div>\n",
       "<style scoped>\n",
       "    .dataframe tbody tr th:only-of-type {\n",
       "        vertical-align: middle;\n",
       "    }\n",
       "\n",
       "    .dataframe tbody tr th {\n",
       "        vertical-align: top;\n",
       "    }\n",
       "\n",
       "    .dataframe thead th {\n",
       "        text-align: right;\n",
       "    }\n",
       "</style>\n",
       "<table border=\"1\" class=\"dataframe\">\n",
       "  <thead>\n",
       "    <tr style=\"text-align: right;\">\n",
       "      <th></th>\n",
       "      <th>UserName</th>\n",
       "      <th>ScreenName</th>\n",
       "      <th>Location</th>\n",
       "      <th>TweetAt</th>\n",
       "      <th>Sentiment</th>\n",
       "      <th>Tweet content</th>\n",
       "      <th>clean_tweet</th>\n",
       "    </tr>\n",
       "  </thead>\n",
       "  <tbody>\n",
       "    <tr>\n",
       "      <th>0</th>\n",
       "      <td>3799</td>\n",
       "      <td>48751</td>\n",
       "      <td>London</td>\n",
       "      <td>16-03-2020</td>\n",
       "      <td>Neutral</td>\n",
       "      <td>@MeNyrbie @Phil_Gahan @Chrisitv https://t.co/i...</td>\n",
       "      <td>@menyrbie @phil_gahan @chrisitv https://t.co/i...</td>\n",
       "    </tr>\n",
       "    <tr>\n",
       "      <th>1</th>\n",
       "      <td>3800</td>\n",
       "      <td>48752</td>\n",
       "      <td>UK</td>\n",
       "      <td>16-03-2020</td>\n",
       "      <td>Positive</td>\n",
       "      <td>advice Talk to your neighbours family to excha...</td>\n",
       "      <td>advice talk to your neighbours family to excha...</td>\n",
       "    </tr>\n",
       "    <tr>\n",
       "      <th>2</th>\n",
       "      <td>3801</td>\n",
       "      <td>48753</td>\n",
       "      <td>Vagabonds</td>\n",
       "      <td>16-03-2020</td>\n",
       "      <td>Positive</td>\n",
       "      <td>Coronavirus Australia: Woolworths to give elde...</td>\n",
       "      <td>coronavirus australia: woolworths to give elde...</td>\n",
       "    </tr>\n",
       "    <tr>\n",
       "      <th>3</th>\n",
       "      <td>3802</td>\n",
       "      <td>48754</td>\n",
       "      <td>NaN</td>\n",
       "      <td>16-03-2020</td>\n",
       "      <td>Positive</td>\n",
       "      <td>My food stock is not the only one which is emp...</td>\n",
       "      <td>my food stock is not the only one which is emp...</td>\n",
       "    </tr>\n",
       "    <tr>\n",
       "      <th>4</th>\n",
       "      <td>3803</td>\n",
       "      <td>48755</td>\n",
       "      <td>NaN</td>\n",
       "      <td>16-03-2020</td>\n",
       "      <td>Negative</td>\n",
       "      <td>Me, ready to go at supermarket during the #COV...</td>\n",
       "      <td>me, ready to go at supermarket during the #cov...</td>\n",
       "    </tr>\n",
       "  </tbody>\n",
       "</table>\n",
       "</div>"
      ],
      "text/plain": [
       "   UserName  ScreenName   Location     TweetAt Sentiment  \\\n",
       "0      3799       48751     London  16-03-2020   Neutral   \n",
       "1      3800       48752         UK  16-03-2020  Positive   \n",
       "2      3801       48753  Vagabonds  16-03-2020  Positive   \n",
       "3      3802       48754        NaN  16-03-2020  Positive   \n",
       "4      3803       48755        NaN  16-03-2020  Negative   \n",
       "\n",
       "                                       Tweet content  \\\n",
       "0  @MeNyrbie @Phil_Gahan @Chrisitv https://t.co/i...   \n",
       "1  advice Talk to your neighbours family to excha...   \n",
       "2  Coronavirus Australia: Woolworths to give elde...   \n",
       "3  My food stock is not the only one which is emp...   \n",
       "4  Me, ready to go at supermarket during the #COV...   \n",
       "\n",
       "                                         clean_tweet  \n",
       "0  @menyrbie @phil_gahan @chrisitv https://t.co/i...  \n",
       "1  advice talk to your neighbours family to excha...  \n",
       "2  coronavirus australia: woolworths to give elde...  \n",
       "3  my food stock is not the only one which is emp...  \n",
       "4  me, ready to go at supermarket during the #cov...  "
      ]
     },
     "execution_count": 25,
     "metadata": {},
     "output_type": "execute_result"
    }
   ],
   "source": [
    "data.head()"
   ]
  },
  {
   "cell_type": "markdown",
   "id": "0706309b",
   "metadata": {},
   "source": [
    "# 𝐍𝐨𝐢𝐬𝐞 𝐑𝐞𝐦𝐨𝐯𝐚𝐥"
   ]
  },
  {
   "cell_type": "markdown",
   "id": "e75aab2c",
   "metadata": {},
   "source": [
    "#### 1 - remove urls\n",
    "#### 2 - remove twitter handles\n",
    "#### 3 - removing Punctuation, special characters and numbers"
   ]
  },
  {
   "cell_type": "code",
   "execution_count": 26,
   "id": "d881b674",
   "metadata": {},
   "outputs": [],
   "source": [
    "def clean(text):\n",
    "\n",
    "    #     remove urls\n",
    "    text = re.sub(r'http\\S+', \" \", text)\n",
    "    \n",
    "    return text"
   ]
  },
  {
   "cell_type": "code",
   "execution_count": 27,
   "id": "06796b53",
   "metadata": {},
   "outputs": [],
   "source": [
    "### remove urls\n",
    "data['clean_tweet'] = data['clean_tweet'].apply(lambda x: clean(x))"
   ]
  },
  {
   "cell_type": "code",
   "execution_count": 28,
   "id": "bdd9c96b",
   "metadata": {},
   "outputs": [
    {
     "data": {
      "text/html": [
       "<div>\n",
       "<style scoped>\n",
       "    .dataframe tbody tr th:only-of-type {\n",
       "        vertical-align: middle;\n",
       "    }\n",
       "\n",
       "    .dataframe tbody tr th {\n",
       "        vertical-align: top;\n",
       "    }\n",
       "\n",
       "    .dataframe thead th {\n",
       "        text-align: right;\n",
       "    }\n",
       "</style>\n",
       "<table border=\"1\" class=\"dataframe\">\n",
       "  <thead>\n",
       "    <tr style=\"text-align: right;\">\n",
       "      <th></th>\n",
       "      <th>UserName</th>\n",
       "      <th>ScreenName</th>\n",
       "      <th>Location</th>\n",
       "      <th>TweetAt</th>\n",
       "      <th>Sentiment</th>\n",
       "      <th>Tweet content</th>\n",
       "      <th>clean_tweet</th>\n",
       "    </tr>\n",
       "  </thead>\n",
       "  <tbody>\n",
       "    <tr>\n",
       "      <th>0</th>\n",
       "      <td>3799</td>\n",
       "      <td>48751</td>\n",
       "      <td>London</td>\n",
       "      <td>16-03-2020</td>\n",
       "      <td>Neutral</td>\n",
       "      <td>@MeNyrbie @Phil_Gahan @Chrisitv https://t.co/i...</td>\n",
       "      <td>@menyrbie @phil_gahan @chrisitv   and   and</td>\n",
       "    </tr>\n",
       "    <tr>\n",
       "      <th>1</th>\n",
       "      <td>3800</td>\n",
       "      <td>48752</td>\n",
       "      <td>UK</td>\n",
       "      <td>16-03-2020</td>\n",
       "      <td>Positive</td>\n",
       "      <td>advice Talk to your neighbours family to excha...</td>\n",
       "      <td>advice talk to your neighbours family to excha...</td>\n",
       "    </tr>\n",
       "    <tr>\n",
       "      <th>2</th>\n",
       "      <td>3801</td>\n",
       "      <td>48753</td>\n",
       "      <td>Vagabonds</td>\n",
       "      <td>16-03-2020</td>\n",
       "      <td>Positive</td>\n",
       "      <td>Coronavirus Australia: Woolworths to give elde...</td>\n",
       "      <td>coronavirus australia: woolworths to give elde...</td>\n",
       "    </tr>\n",
       "    <tr>\n",
       "      <th>3</th>\n",
       "      <td>3802</td>\n",
       "      <td>48754</td>\n",
       "      <td>NaN</td>\n",
       "      <td>16-03-2020</td>\n",
       "      <td>Positive</td>\n",
       "      <td>My food stock is not the only one which is emp...</td>\n",
       "      <td>my food stock is not the only one which is emp...</td>\n",
       "    </tr>\n",
       "    <tr>\n",
       "      <th>4</th>\n",
       "      <td>3803</td>\n",
       "      <td>48755</td>\n",
       "      <td>NaN</td>\n",
       "      <td>16-03-2020</td>\n",
       "      <td>Negative</td>\n",
       "      <td>Me, ready to go at supermarket during the #COV...</td>\n",
       "      <td>me, ready to go at supermarket during the #cov...</td>\n",
       "    </tr>\n",
       "  </tbody>\n",
       "</table>\n",
       "</div>"
      ],
      "text/plain": [
       "   UserName  ScreenName   Location     TweetAt Sentiment  \\\n",
       "0      3799       48751     London  16-03-2020   Neutral   \n",
       "1      3800       48752         UK  16-03-2020  Positive   \n",
       "2      3801       48753  Vagabonds  16-03-2020  Positive   \n",
       "3      3802       48754        NaN  16-03-2020  Positive   \n",
       "4      3803       48755        NaN  16-03-2020  Negative   \n",
       "\n",
       "                                       Tweet content  \\\n",
       "0  @MeNyrbie @Phil_Gahan @Chrisitv https://t.co/i...   \n",
       "1  advice Talk to your neighbours family to excha...   \n",
       "2  Coronavirus Australia: Woolworths to give elde...   \n",
       "3  My food stock is not the only one which is emp...   \n",
       "4  Me, ready to go at supermarket during the #COV...   \n",
       "\n",
       "                                         clean_tweet  \n",
       "0      @menyrbie @phil_gahan @chrisitv   and   and    \n",
       "1  advice talk to your neighbours family to excha...  \n",
       "2  coronavirus australia: woolworths to give elde...  \n",
       "3  my food stock is not the only one which is emp...  \n",
       "4  me, ready to go at supermarket during the #cov...  "
      ]
     },
     "execution_count": 28,
     "metadata": {},
     "output_type": "execute_result"
    }
   ],
   "source": [
    "data.head()"
   ]
  },
  {
   "cell_type": "code",
   "execution_count": 29,
   "id": "9f74ddaf",
   "metadata": {},
   "outputs": [],
   "source": [
    "#removal twitter handles\n",
    "data['clean_tweet'] =data['clean_tweet'].str.replace(\"@[^ ]+\",\"\")"
   ]
  },
  {
   "cell_type": "code",
   "execution_count": 30,
   "id": "d6f1056b",
   "metadata": {
    "scrolled": true
   },
   "outputs": [
    {
     "data": {
      "text/html": [
       "<div>\n",
       "<style scoped>\n",
       "    .dataframe tbody tr th:only-of-type {\n",
       "        vertical-align: middle;\n",
       "    }\n",
       "\n",
       "    .dataframe tbody tr th {\n",
       "        vertical-align: top;\n",
       "    }\n",
       "\n",
       "    .dataframe thead th {\n",
       "        text-align: right;\n",
       "    }\n",
       "</style>\n",
       "<table border=\"1\" class=\"dataframe\">\n",
       "  <thead>\n",
       "    <tr style=\"text-align: right;\">\n",
       "      <th></th>\n",
       "      <th>UserName</th>\n",
       "      <th>ScreenName</th>\n",
       "      <th>Location</th>\n",
       "      <th>TweetAt</th>\n",
       "      <th>Sentiment</th>\n",
       "      <th>Tweet content</th>\n",
       "      <th>clean_tweet</th>\n",
       "    </tr>\n",
       "  </thead>\n",
       "  <tbody>\n",
       "    <tr>\n",
       "      <th>0</th>\n",
       "      <td>3799</td>\n",
       "      <td>48751</td>\n",
       "      <td>London</td>\n",
       "      <td>16-03-2020</td>\n",
       "      <td>Neutral</td>\n",
       "      <td>@MeNyrbie @Phil_Gahan @Chrisitv https://t.co/i...</td>\n",
       "      <td>and   and</td>\n",
       "    </tr>\n",
       "    <tr>\n",
       "      <th>1</th>\n",
       "      <td>3800</td>\n",
       "      <td>48752</td>\n",
       "      <td>UK</td>\n",
       "      <td>16-03-2020</td>\n",
       "      <td>Positive</td>\n",
       "      <td>advice Talk to your neighbours family to excha...</td>\n",
       "      <td>advice talk to your neighbours family to excha...</td>\n",
       "    </tr>\n",
       "    <tr>\n",
       "      <th>2</th>\n",
       "      <td>3801</td>\n",
       "      <td>48753</td>\n",
       "      <td>Vagabonds</td>\n",
       "      <td>16-03-2020</td>\n",
       "      <td>Positive</td>\n",
       "      <td>Coronavirus Australia: Woolworths to give elde...</td>\n",
       "      <td>coronavirus australia: woolworths to give elde...</td>\n",
       "    </tr>\n",
       "    <tr>\n",
       "      <th>3</th>\n",
       "      <td>3802</td>\n",
       "      <td>48754</td>\n",
       "      <td>NaN</td>\n",
       "      <td>16-03-2020</td>\n",
       "      <td>Positive</td>\n",
       "      <td>My food stock is not the only one which is emp...</td>\n",
       "      <td>my food stock is not the only one which is emp...</td>\n",
       "    </tr>\n",
       "    <tr>\n",
       "      <th>4</th>\n",
       "      <td>3803</td>\n",
       "      <td>48755</td>\n",
       "      <td>NaN</td>\n",
       "      <td>16-03-2020</td>\n",
       "      <td>Negative</td>\n",
       "      <td>Me, ready to go at supermarket during the #COV...</td>\n",
       "      <td>me, ready to go at supermarket during the #cov...</td>\n",
       "    </tr>\n",
       "  </tbody>\n",
       "</table>\n",
       "</div>"
      ],
      "text/plain": [
       "   UserName  ScreenName   Location     TweetAt Sentiment  \\\n",
       "0      3799       48751     London  16-03-2020   Neutral   \n",
       "1      3800       48752         UK  16-03-2020  Positive   \n",
       "2      3801       48753  Vagabonds  16-03-2020  Positive   \n",
       "3      3802       48754        NaN  16-03-2020  Positive   \n",
       "4      3803       48755        NaN  16-03-2020  Negative   \n",
       "\n",
       "                                       Tweet content  \\\n",
       "0  @MeNyrbie @Phil_Gahan @Chrisitv https://t.co/i...   \n",
       "1  advice Talk to your neighbours family to excha...   \n",
       "2  Coronavirus Australia: Woolworths to give elde...   \n",
       "3  My food stock is not the only one which is emp...   \n",
       "4  Me, ready to go at supermarket during the #COV...   \n",
       "\n",
       "                                         clean_tweet  \n",
       "0                                        and   and    \n",
       "1  advice talk to your neighbours family to excha...  \n",
       "2  coronavirus australia: woolworths to give elde...  \n",
       "3  my food stock is not the only one which is emp...  \n",
       "4  me, ready to go at supermarket during the #cov...  "
      ]
     },
     "execution_count": 30,
     "metadata": {},
     "output_type": "execute_result"
    }
   ],
   "source": [
    "data.head()"
   ]
  },
  {
   "cell_type": "code",
   "execution_count": 31,
   "id": "18325b53",
   "metadata": {},
   "outputs": [],
   "source": [
    "# removing Punctuation, special characters and numbers\n",
    "data['clean_tweet'] = data['clean_tweet'].str.replace(\"[^a-zA-Z*]\",\" \")"
   ]
  },
  {
   "cell_type": "code",
   "execution_count": 32,
   "id": "0743ec11",
   "metadata": {},
   "outputs": [
    {
     "data": {
      "text/html": [
       "<div>\n",
       "<style scoped>\n",
       "    .dataframe tbody tr th:only-of-type {\n",
       "        vertical-align: middle;\n",
       "    }\n",
       "\n",
       "    .dataframe tbody tr th {\n",
       "        vertical-align: top;\n",
       "    }\n",
       "\n",
       "    .dataframe thead th {\n",
       "        text-align: right;\n",
       "    }\n",
       "</style>\n",
       "<table border=\"1\" class=\"dataframe\">\n",
       "  <thead>\n",
       "    <tr style=\"text-align: right;\">\n",
       "      <th></th>\n",
       "      <th>UserName</th>\n",
       "      <th>ScreenName</th>\n",
       "      <th>Location</th>\n",
       "      <th>TweetAt</th>\n",
       "      <th>Sentiment</th>\n",
       "      <th>Tweet content</th>\n",
       "      <th>clean_tweet</th>\n",
       "    </tr>\n",
       "  </thead>\n",
       "  <tbody>\n",
       "    <tr>\n",
       "      <th>0</th>\n",
       "      <td>3799</td>\n",
       "      <td>48751</td>\n",
       "      <td>London</td>\n",
       "      <td>16-03-2020</td>\n",
       "      <td>Neutral</td>\n",
       "      <td>@MeNyrbie @Phil_Gahan @Chrisitv https://t.co/i...</td>\n",
       "      <td>and   and</td>\n",
       "    </tr>\n",
       "    <tr>\n",
       "      <th>1</th>\n",
       "      <td>3800</td>\n",
       "      <td>48752</td>\n",
       "      <td>UK</td>\n",
       "      <td>16-03-2020</td>\n",
       "      <td>Positive</td>\n",
       "      <td>advice Talk to your neighbours family to excha...</td>\n",
       "      <td>advice talk to your neighbours family to excha...</td>\n",
       "    </tr>\n",
       "    <tr>\n",
       "      <th>2</th>\n",
       "      <td>3801</td>\n",
       "      <td>48753</td>\n",
       "      <td>Vagabonds</td>\n",
       "      <td>16-03-2020</td>\n",
       "      <td>Positive</td>\n",
       "      <td>Coronavirus Australia: Woolworths to give elde...</td>\n",
       "      <td>coronavirus australia  woolworths to give elde...</td>\n",
       "    </tr>\n",
       "    <tr>\n",
       "      <th>3</th>\n",
       "      <td>3802</td>\n",
       "      <td>48754</td>\n",
       "      <td>NaN</td>\n",
       "      <td>16-03-2020</td>\n",
       "      <td>Positive</td>\n",
       "      <td>My food stock is not the only one which is emp...</td>\n",
       "      <td>my food stock is not the only one which is emp...</td>\n",
       "    </tr>\n",
       "    <tr>\n",
       "      <th>4</th>\n",
       "      <td>3803</td>\n",
       "      <td>48755</td>\n",
       "      <td>NaN</td>\n",
       "      <td>16-03-2020</td>\n",
       "      <td>Negative</td>\n",
       "      <td>Me, ready to go at supermarket during the #COV...</td>\n",
       "      <td>me  ready to go at supermarket during the  cov...</td>\n",
       "    </tr>\n",
       "  </tbody>\n",
       "</table>\n",
       "</div>"
      ],
      "text/plain": [
       "   UserName  ScreenName   Location     TweetAt Sentiment  \\\n",
       "0      3799       48751     London  16-03-2020   Neutral   \n",
       "1      3800       48752         UK  16-03-2020  Positive   \n",
       "2      3801       48753  Vagabonds  16-03-2020  Positive   \n",
       "3      3802       48754        NaN  16-03-2020  Positive   \n",
       "4      3803       48755        NaN  16-03-2020  Negative   \n",
       "\n",
       "                                       Tweet content  \\\n",
       "0  @MeNyrbie @Phil_Gahan @Chrisitv https://t.co/i...   \n",
       "1  advice Talk to your neighbours family to excha...   \n",
       "2  Coronavirus Australia: Woolworths to give elde...   \n",
       "3  My food stock is not the only one which is emp...   \n",
       "4  Me, ready to go at supermarket during the #COV...   \n",
       "\n",
       "                                         clean_tweet  \n",
       "0                                        and   and    \n",
       "1  advice talk to your neighbours family to excha...  \n",
       "2  coronavirus australia  woolworths to give elde...  \n",
       "3  my food stock is not the only one which is emp...  \n",
       "4  me  ready to go at supermarket during the  cov...  "
      ]
     },
     "execution_count": 32,
     "metadata": {},
     "output_type": "execute_result"
    }
   ],
   "source": [
    "data.head()"
   ]
  },
  {
   "cell_type": "code",
   "execution_count": 33,
   "id": "14bc7873",
   "metadata": {
    "scrolled": true
   },
   "outputs": [
    {
     "data": {
      "text/plain": [
       "'coronavirus australia  woolworths to give elderly  disabled dedicated shopping hours amid covid    outbreak  '"
      ]
     },
     "execution_count": 33,
     "metadata": {},
     "output_type": "execute_result"
    }
   ],
   "source": [
    "data[\"clean_tweet\"].iloc[2]\n"
   ]
  },
  {
   "cell_type": "markdown",
   "id": "857e9b09",
   "metadata": {},
   "source": [
    "# Stop Word Removal"
   ]
  },
  {
   "cell_type": "code",
   "execution_count": 34,
   "id": "6fb742a4",
   "metadata": {},
   "outputs": [
    {
     "name": "stdout",
     "output_type": "stream",
     "text": [
      "{\"you'd\", 'any', 'because', \"doesn't\", 'same', 'who', \"hadn't\", 'is', 'has', 'needn', 'at', 'ours', 'll', 'you', 'most', 'in', 'himself', 'them', 'only', 'just', 'had', 'but', 'here', 'own', 'won', 'hers', 'were', \"isn't\", 'all', 'itself', \"should've\", 'ma', 'which', 'our', 'her', 'herself', 'after', 'yourselves', 'ourselves', 'does', 'we', 'as', 'into', 'few', 'off', 'not', 'wasn', \"aren't\", 'did', 'that', 'through', 'how', 'yourself', 'some', 'and', 'theirs', \"didn't\", \"shan't\", \"she's\", 'their', 're', 'both', 'more', 'between', 'doesn', 'o', 'what', 'over', 'so', 'those', \"you'll\", 'its', 'd', 'under', \"needn't\", 'about', 'during', 'they', 'while', 'with', \"shouldn't\", \"wasn't\", 'too', 'for', \"don't\", 's', 'couldn', 'on', 'then', 'it', 'shan', 'be', 'by', 'my', 'hasn', 'y', 'until', 'mightn', 'shouldn', 'being', 'weren', 'from', 'can', 'aren', 'have', \"it's\", 'why', 'been', 'myself', 'up', 'was', 'should', 'i', 'whom', 'him', 'down', 'didn', \"weren't\", 'nor', 'of', 'this', \"hasn't\", 'now', 'further', 'out', 'me', 'these', 'yours', \"won't\", 'his', 'a', 'doing', 'your', 'she', 'themselves', 'there', 'wouldn', 'are', 'against', 'don', 'ain', 't', 'once', \"you're\", 'the', 'haven', 'will', 'each', 'if', 'where', 'again', 'm', 'or', \"wouldn't\", \"couldn't\", 'no', 'am', 'than', 'below', 'do', \"you've\", 'before', \"haven't\", 'hadn', 'mustn', 'very', 'having', \"that'll\", \"mightn't\", 'when', 've', 'such', 'isn', 'other', 'an', 'to', \"mustn't\", 'he', 'above'}\n"
     ]
    }
   ],
   "source": [
    "#Stop Words\n",
    "# stopwords.words('English')\n",
    "stop_words = set(stopwords.words('english'))\n",
    "# print (list(stop_words))\n",
    "print(stop_words)"
   ]
  },
  {
   "cell_type": "code",
   "execution_count": 35,
   "id": "fe5e880a",
   "metadata": {},
   "outputs": [
    {
     "data": {
      "text/html": [
       "<div>\n",
       "<style scoped>\n",
       "    .dataframe tbody tr th:only-of-type {\n",
       "        vertical-align: middle;\n",
       "    }\n",
       "\n",
       "    .dataframe tbody tr th {\n",
       "        vertical-align: top;\n",
       "    }\n",
       "\n",
       "    .dataframe thead th {\n",
       "        text-align: right;\n",
       "    }\n",
       "</style>\n",
       "<table border=\"1\" class=\"dataframe\">\n",
       "  <thead>\n",
       "    <tr style=\"text-align: right;\">\n",
       "      <th></th>\n",
       "      <th>UserName</th>\n",
       "      <th>ScreenName</th>\n",
       "      <th>Location</th>\n",
       "      <th>TweetAt</th>\n",
       "      <th>Sentiment</th>\n",
       "      <th>Tweet content</th>\n",
       "      <th>clean_tweet</th>\n",
       "      <th>filtered</th>\n",
       "    </tr>\n",
       "  </thead>\n",
       "  <tbody>\n",
       "    <tr>\n",
       "      <th>0</th>\n",
       "      <td>3799</td>\n",
       "      <td>48751</td>\n",
       "      <td>London</td>\n",
       "      <td>16-03-2020</td>\n",
       "      <td>Neutral</td>\n",
       "      <td>@MeNyrbie @Phil_Gahan @Chrisitv https://t.co/i...</td>\n",
       "      <td>and   and</td>\n",
       "      <td></td>\n",
       "    </tr>\n",
       "    <tr>\n",
       "      <th>1</th>\n",
       "      <td>3800</td>\n",
       "      <td>48752</td>\n",
       "      <td>UK</td>\n",
       "      <td>16-03-2020</td>\n",
       "      <td>Positive</td>\n",
       "      <td>advice Talk to your neighbours family to excha...</td>\n",
       "      <td>advice talk to your neighbours family to excha...</td>\n",
       "      <td>advice talk neighbours family exchange phone n...</td>\n",
       "    </tr>\n",
       "    <tr>\n",
       "      <th>2</th>\n",
       "      <td>3801</td>\n",
       "      <td>48753</td>\n",
       "      <td>Vagabonds</td>\n",
       "      <td>16-03-2020</td>\n",
       "      <td>Positive</td>\n",
       "      <td>Coronavirus Australia: Woolworths to give elde...</td>\n",
       "      <td>coronavirus australia  woolworths to give elde...</td>\n",
       "      <td>coronavirus australia woolworths give elderly ...</td>\n",
       "    </tr>\n",
       "    <tr>\n",
       "      <th>3</th>\n",
       "      <td>3802</td>\n",
       "      <td>48754</td>\n",
       "      <td>NaN</td>\n",
       "      <td>16-03-2020</td>\n",
       "      <td>Positive</td>\n",
       "      <td>My food stock is not the only one which is emp...</td>\n",
       "      <td>my food stock is not the only one which is emp...</td>\n",
       "      <td>food stock one empty please panic enough food...</td>\n",
       "    </tr>\n",
       "    <tr>\n",
       "      <th>4</th>\n",
       "      <td>3803</td>\n",
       "      <td>48755</td>\n",
       "      <td>NaN</td>\n",
       "      <td>16-03-2020</td>\n",
       "      <td>Negative</td>\n",
       "      <td>Me, ready to go at supermarket during the #COV...</td>\n",
       "      <td>me  ready to go at supermarket during the  cov...</td>\n",
       "      <td>ready go supermarket covid outbreak paranoid ...</td>\n",
       "    </tr>\n",
       "    <tr>\n",
       "      <th>5</th>\n",
       "      <td>3804</td>\n",
       "      <td>48756</td>\n",
       "      <td>ÃT: 36.319708,-82.363649</td>\n",
       "      <td>16-03-2020</td>\n",
       "      <td>Positive</td>\n",
       "      <td>As news of the regionÂs first confirmed COVID...</td>\n",
       "      <td>as news of the region  s first confirmed covid...</td>\n",
       "      <td>news region first confirmed covid case came s...</td>\n",
       "    </tr>\n",
       "    <tr>\n",
       "      <th>6</th>\n",
       "      <td>3805</td>\n",
       "      <td>48757</td>\n",
       "      <td>35.926541,-78.753267</td>\n",
       "      <td>16-03-2020</td>\n",
       "      <td>Positive</td>\n",
       "      <td>Cashier at grocery store was sharing his insig...</td>\n",
       "      <td>cashier at grocery store was sharing his insig...</td>\n",
       "      <td>cashier grocery store sharing insights covid p...</td>\n",
       "    </tr>\n",
       "    <tr>\n",
       "      <th>7</th>\n",
       "      <td>3806</td>\n",
       "      <td>48758</td>\n",
       "      <td>Austria</td>\n",
       "      <td>16-03-2020</td>\n",
       "      <td>Neutral</td>\n",
       "      <td>Was at the supermarket today. Didn't buy toile...</td>\n",
       "      <td>was at the supermarket today  didn t buy toile...</td>\n",
       "      <td>supermarket today buy toilet paper rebel toil...</td>\n",
       "    </tr>\n",
       "    <tr>\n",
       "      <th>8</th>\n",
       "      <td>3807</td>\n",
       "      <td>48759</td>\n",
       "      <td>Atlanta, GA USA</td>\n",
       "      <td>16-03-2020</td>\n",
       "      <td>Positive</td>\n",
       "      <td>Due to COVID-19 our retail store and classroom...</td>\n",
       "      <td>due to covid    our retail store and classroom...</td>\n",
       "      <td>due covid retail store classroom atlanta open ...</td>\n",
       "    </tr>\n",
       "    <tr>\n",
       "      <th>9</th>\n",
       "      <td>3808</td>\n",
       "      <td>48760</td>\n",
       "      <td>BHAVNAGAR,GUJRAT</td>\n",
       "      <td>16-03-2020</td>\n",
       "      <td>Negative</td>\n",
       "      <td>For corona prevention,we should stop to buy th...</td>\n",
       "      <td>for corona prevention we should stop to buy th...</td>\n",
       "      <td>corona prevention stop buy things cash use on...</td>\n",
       "    </tr>\n",
       "    <tr>\n",
       "      <th>10</th>\n",
       "      <td>3809</td>\n",
       "      <td>48761</td>\n",
       "      <td>Makati, Manila</td>\n",
       "      <td>16-03-2020</td>\n",
       "      <td>Neutral</td>\n",
       "      <td>All month there hasn't been crowding in the su...</td>\n",
       "      <td>all month there hasn t been crowding in the su...</td>\n",
       "      <td>month crowding supermarkets restaurants howev...</td>\n",
       "    </tr>\n",
       "    <tr>\n",
       "      <th>11</th>\n",
       "      <td>3810</td>\n",
       "      <td>48762</td>\n",
       "      <td>Pitt Meadows, BC, Canada</td>\n",
       "      <td>16-03-2020</td>\n",
       "      <td>Positive</td>\n",
       "      <td>Due to the Covid-19 situation, we have increas...</td>\n",
       "      <td>due to the covid    situation  we have increas...</td>\n",
       "      <td>due covid situation increased demand food prod...</td>\n",
       "    </tr>\n",
       "    <tr>\n",
       "      <th>12</th>\n",
       "      <td>3811</td>\n",
       "      <td>48763</td>\n",
       "      <td>Horningsea</td>\n",
       "      <td>16-03-2020</td>\n",
       "      <td>Positive</td>\n",
       "      <td>#horningsea is a caring community. LetÂs ALL ...</td>\n",
       "      <td>horningsea is a caring community  let  s all ...</td>\n",
       "      <td>horningsea caring community let look less cap...</td>\n",
       "    </tr>\n",
       "    <tr>\n",
       "      <th>13</th>\n",
       "      <td>3812</td>\n",
       "      <td>48764</td>\n",
       "      <td>Chicago, IL</td>\n",
       "      <td>16-03-2020</td>\n",
       "      <td>Positive</td>\n",
       "      <td>Me: I don't need to stock up on food, I'll jus...</td>\n",
       "      <td>me  i don t need to stock up on food  i ll jus...</td>\n",
       "      <td>need stock food amazon deliver whatever need ...</td>\n",
       "    </tr>\n",
       "    <tr>\n",
       "      <th>14</th>\n",
       "      <td>3813</td>\n",
       "      <td>48765</td>\n",
       "      <td>NaN</td>\n",
       "      <td>16-03-2020</td>\n",
       "      <td>Positive</td>\n",
       "      <td>ADARA Releases COVID-19 Resource Center for Tr...</td>\n",
       "      <td>adara releases covid    resource center for tr...</td>\n",
       "      <td>adara releases covid resource center travel br...</td>\n",
       "    </tr>\n",
       "    <tr>\n",
       "      <th>15</th>\n",
       "      <td>3814</td>\n",
       "      <td>48766</td>\n",
       "      <td>Houston, Texas</td>\n",
       "      <td>16-03-2020</td>\n",
       "      <td>Positive</td>\n",
       "      <td>Lines at the grocery store have been unpredict...</td>\n",
       "      <td>lines at the grocery store have been unpredict...</td>\n",
       "      <td>lines grocery store unpredictable eating safe ...</td>\n",
       "    </tr>\n",
       "    <tr>\n",
       "      <th>16</th>\n",
       "      <td>3815</td>\n",
       "      <td>48767</td>\n",
       "      <td>Saudi Arabia</td>\n",
       "      <td>16-03-2020</td>\n",
       "      <td>Neutral</td>\n",
       "      <td>????? ????? ????? ????? ??\\r\\r\\n?????? ????? ?...</td>\n",
       "      <td>...</td>\n",
       "      <td></td>\n",
       "    </tr>\n",
       "    <tr>\n",
       "      <th>17</th>\n",
       "      <td>3816</td>\n",
       "      <td>48768</td>\n",
       "      <td>Ontario, Canada</td>\n",
       "      <td>16-03-2020</td>\n",
       "      <td>Neutral</td>\n",
       "      <td>@eyeonthearctic 16MAR20 Russia consumer survei...</td>\n",
       "      <td>mar   russia consumer surveillance watchdog...</td>\n",
       "      <td>mar russia consumer surveillance watchdog rep...</td>\n",
       "    </tr>\n",
       "    <tr>\n",
       "      <th>18</th>\n",
       "      <td>3817</td>\n",
       "      <td>48769</td>\n",
       "      <td>North America</td>\n",
       "      <td>16-03-2020</td>\n",
       "      <td>Positive</td>\n",
       "      <td>Amazon Glitch Stymies Whole Foods, Fresh Groce...</td>\n",
       "      <td>amazon glitch stymies whole foods  fresh groce...</td>\n",
       "      <td>amazon glitch stymies whole foods fresh grocer...</td>\n",
       "    </tr>\n",
       "    <tr>\n",
       "      <th>19</th>\n",
       "      <td>3818</td>\n",
       "      <td>48770</td>\n",
       "      <td>Denver, CO</td>\n",
       "      <td>16-03-2020</td>\n",
       "      <td>Positive</td>\n",
       "      <td>For those who aren't struggling, please consid...</td>\n",
       "      <td>for those who aren t struggling  please consid...</td>\n",
       "      <td>struggling please consider donating food bank...</td>\n",
       "    </tr>\n",
       "  </tbody>\n",
       "</table>\n",
       "</div>"
      ],
      "text/plain": [
       "    UserName  ScreenName                   Location     TweetAt Sentiment  \\\n",
       "0       3799       48751                     London  16-03-2020   Neutral   \n",
       "1       3800       48752                         UK  16-03-2020  Positive   \n",
       "2       3801       48753                  Vagabonds  16-03-2020  Positive   \n",
       "3       3802       48754                        NaN  16-03-2020  Positive   \n",
       "4       3803       48755                        NaN  16-03-2020  Negative   \n",
       "5       3804       48756  ÃT: 36.319708,-82.363649  16-03-2020  Positive   \n",
       "6       3805       48757       35.926541,-78.753267  16-03-2020  Positive   \n",
       "7       3806       48758                    Austria  16-03-2020   Neutral   \n",
       "8       3807       48759            Atlanta, GA USA  16-03-2020  Positive   \n",
       "9       3808       48760           BHAVNAGAR,GUJRAT  16-03-2020  Negative   \n",
       "10      3809       48761             Makati, Manila  16-03-2020   Neutral   \n",
       "11      3810       48762  Pitt Meadows, BC, Canada   16-03-2020  Positive   \n",
       "12      3811       48763                 Horningsea  16-03-2020  Positive   \n",
       "13      3812       48764                Chicago, IL  16-03-2020  Positive   \n",
       "14      3813       48765                        NaN  16-03-2020  Positive   \n",
       "15      3814       48766             Houston, Texas  16-03-2020  Positive   \n",
       "16      3815       48767               Saudi Arabia  16-03-2020   Neutral   \n",
       "17      3816       48768            Ontario, Canada  16-03-2020   Neutral   \n",
       "18      3817       48769              North America  16-03-2020  Positive   \n",
       "19      3818       48770                 Denver, CO  16-03-2020  Positive   \n",
       "\n",
       "                                        Tweet content  \\\n",
       "0   @MeNyrbie @Phil_Gahan @Chrisitv https://t.co/i...   \n",
       "1   advice Talk to your neighbours family to excha...   \n",
       "2   Coronavirus Australia: Woolworths to give elde...   \n",
       "3   My food stock is not the only one which is emp...   \n",
       "4   Me, ready to go at supermarket during the #COV...   \n",
       "5   As news of the regionÂs first confirmed COVID...   \n",
       "6   Cashier at grocery store was sharing his insig...   \n",
       "7   Was at the supermarket today. Didn't buy toile...   \n",
       "8   Due to COVID-19 our retail store and classroom...   \n",
       "9   For corona prevention,we should stop to buy th...   \n",
       "10  All month there hasn't been crowding in the su...   \n",
       "11  Due to the Covid-19 situation, we have increas...   \n",
       "12  #horningsea is a caring community. LetÂs ALL ...   \n",
       "13  Me: I don't need to stock up on food, I'll jus...   \n",
       "14  ADARA Releases COVID-19 Resource Center for Tr...   \n",
       "15  Lines at the grocery store have been unpredict...   \n",
       "16  ????? ????? ????? ????? ??\\r\\r\\n?????? ????? ?...   \n",
       "17  @eyeonthearctic 16MAR20 Russia consumer survei...   \n",
       "18  Amazon Glitch Stymies Whole Foods, Fresh Groce...   \n",
       "19  For those who aren't struggling, please consid...   \n",
       "\n",
       "                                          clean_tweet  \\\n",
       "0                                         and   and     \n",
       "1   advice talk to your neighbours family to excha...   \n",
       "2   coronavirus australia  woolworths to give elde...   \n",
       "3   my food stock is not the only one which is emp...   \n",
       "4   me  ready to go at supermarket during the  cov...   \n",
       "5   as news of the region  s first confirmed covid...   \n",
       "6   cashier at grocery store was sharing his insig...   \n",
       "7   was at the supermarket today  didn t buy toile...   \n",
       "8   due to covid    our retail store and classroom...   \n",
       "9   for corona prevention we should stop to buy th...   \n",
       "10  all month there hasn t been crowding in the su...   \n",
       "11  due to the covid    situation  we have increas...   \n",
       "12   horningsea is a caring community  let  s all ...   \n",
       "13  me  i don t need to stock up on food  i ll jus...   \n",
       "14  adara releases covid    resource center for tr...   \n",
       "15  lines at the grocery store have been unpredict...   \n",
       "16                                                ...   \n",
       "17     mar   russia consumer surveillance watchdog...   \n",
       "18  amazon glitch stymies whole foods  fresh groce...   \n",
       "19  for those who aren t struggling  please consid...   \n",
       "\n",
       "                                             filtered  \n",
       "0                                                      \n",
       "1   advice talk neighbours family exchange phone n...  \n",
       "2   coronavirus australia woolworths give elderly ...  \n",
       "3    food stock one empty please panic enough food...  \n",
       "4    ready go supermarket covid outbreak paranoid ...  \n",
       "5    news region first confirmed covid case came s...  \n",
       "6   cashier grocery store sharing insights covid p...  \n",
       "7    supermarket today buy toilet paper rebel toil...  \n",
       "8   due covid retail store classroom atlanta open ...  \n",
       "9    corona prevention stop buy things cash use on...  \n",
       "10   month crowding supermarkets restaurants howev...  \n",
       "11  due covid situation increased demand food prod...  \n",
       "12   horningsea caring community let look less cap...  \n",
       "13   need stock food amazon deliver whatever need ...  \n",
       "14  adara releases covid resource center travel br...  \n",
       "15  lines grocery store unpredictable eating safe ...  \n",
       "16                                                     \n",
       "17   mar russia consumer surveillance watchdog rep...  \n",
       "18  amazon glitch stymies whole foods fresh grocer...  \n",
       "19   struggling please consider donating food bank...  "
      ]
     },
     "execution_count": 35,
     "metadata": {},
     "output_type": "execute_result"
    }
   ],
   "source": [
    "pat = r'\\b(?:{})\\b'.format('|'.join(stop_words))\n",
    "data['filtered'] = data['clean_tweet'].str.replace(pat, '')\n",
    "data['filtered']= data['filtered'].str.replace(r'\\s+', ' ')\n",
    "data.head(20)\n"
   ]
  },
  {
   "cell_type": "markdown",
   "id": "c60a0275",
   "metadata": {},
   "source": [
    "# Tokenization"
   ]
  },
  {
   "cell_type": "code",
   "execution_count": 36,
   "id": "9669d33e",
   "metadata": {
    "scrolled": true
   },
   "outputs": [
    {
     "data": {
      "text/plain": [
       "0                                                   []\n",
       "1    [advice, talk, neighbours, family, exchange, p...\n",
       "2    [coronavirus, australia, woolworths, give, eld...\n",
       "3    [food, stock, one, empty, please, panic, enoug...\n",
       "4    [ready, go, supermarket, covid, outbreak, para...\n",
       "Name: filtered, dtype: object"
      ]
     },
     "execution_count": 36,
     "metadata": {},
     "output_type": "execute_result"
    }
   ],
   "source": [
    "tokenized_tweet = data['filtered'].apply(lambda x:x.split())\n",
    "tokenized_tweet.head()\n"
   ]
  },
  {
   "cell_type": "code",
   "execution_count": 37,
   "id": "0964644e",
   "metadata": {},
   "outputs": [],
   "source": [
    "tokenized_tweet_2 = tokenized_tweet"
   ]
  },
  {
   "cell_type": "code",
   "execution_count": 38,
   "id": "b2603b60",
   "metadata": {},
   "outputs": [
    {
     "data": {
      "text/plain": [
       "['coronavirus',\n",
       " 'australia',\n",
       " 'woolworths',\n",
       " 'give',\n",
       " 'elderly',\n",
       " 'disabled',\n",
       " 'dedicated',\n",
       " 'shopping',\n",
       " 'hours',\n",
       " 'amid',\n",
       " 'covid',\n",
       " 'outbreak']"
      ]
     },
     "execution_count": 38,
     "metadata": {},
     "output_type": "execute_result"
    }
   ],
   "source": [
    "tokenized_tweet_2[2]"
   ]
  },
  {
   "cell_type": "markdown",
   "id": "19f40169",
   "metadata": {},
   "source": [
    "# Stemming\n"
   ]
  },
  {
   "cell_type": "code",
   "execution_count": 39,
   "id": "0a7a734f",
   "metadata": {},
   "outputs": [],
   "source": [
    "\n",
    "from nltk.stem.porter import PorterStemmer\n",
    "ps=PorterStemmer()\n",
    "tokenized_tweet = tokenized_tweet.apply(lambda s:[ps.stem(word) for word in s])"
   ]
  },
  {
   "cell_type": "code",
   "execution_count": 40,
   "id": "b2d8d06a",
   "metadata": {},
   "outputs": [
    {
     "data": {
      "text/plain": [
       "pandas.core.series.Series"
      ]
     },
     "execution_count": 40,
     "metadata": {},
     "output_type": "execute_result"
    }
   ],
   "source": [
    "type(tokenized_tweet)"
   ]
  },
  {
   "cell_type": "code",
   "execution_count": 41,
   "id": "89e40535",
   "metadata": {},
   "outputs": [
    {
     "data": {
      "text/plain": [
       "0                                                   []\n",
       "1    [advic, talk, neighbour, famili, exchang, phon...\n",
       "2    [coronaviru, australia, woolworth, give, elder...\n",
       "3    [food, stock, one, empti, pleas, panic, enough...\n",
       "4    [readi, go, supermarket, covid, outbreak, para...\n",
       "Name: filtered, dtype: object"
      ]
     },
     "execution_count": 41,
     "metadata": {},
     "output_type": "execute_result"
    }
   ],
   "source": [
    "tokenized_tweet.head()"
   ]
  },
  {
   "cell_type": "code",
   "execution_count": 42,
   "id": "dbe48c6b",
   "metadata": {},
   "outputs": [
    {
     "data": {
      "text/plain": [
       "['coronaviru',\n",
       " 'australia',\n",
       " 'woolworth',\n",
       " 'give',\n",
       " 'elderli',\n",
       " 'disabl',\n",
       " 'dedic',\n",
       " 'shop',\n",
       " 'hour',\n",
       " 'amid',\n",
       " 'covid',\n",
       " 'outbreak']"
      ]
     },
     "execution_count": 42,
     "metadata": {},
     "output_type": "execute_result"
    }
   ],
   "source": [
    "tokenized_tweet[2]"
   ]
  },
  {
   "cell_type": "markdown",
   "id": "561db9e6",
   "metadata": {},
   "source": [
    "# LEMATISATION\n",
    "#### Lemmatization is a more powerful operation, and it takes into consideration the morphological analysis of the words. \n",
    "#### It returns the lemma which is the base form of all its inflectional forms.\n",
    "\n"
   ]
  },
  {
   "cell_type": "code",
   "execution_count": 43,
   "id": "ce7a3fa2",
   "metadata": {},
   "outputs": [
    {
     "name": "stderr",
     "output_type": "stream",
     "text": [
      "[nltk_data] Error loading wordnet: <urlopen error [WinError 10061] No\n",
      "[nltk_data]     connection could be made because the target machine\n",
      "[nltk_data]     actively refused it>\n",
      "[nltk_data] Error loading omw-1.4: <urlopen error [WinError 10061] No\n",
      "[nltk_data]     connection could be made because the target machine\n",
      "[nltk_data]     actively refused it>\n"
     ]
    }
   ],
   "source": [
    "nltk.download('wordnet')\n",
    "nltk.download('omw-1.4')\n",
    "from nltk.stem import WordNetLemmatizer\n",
    "lemmatizer = WordNetLemmatizer()\n"
   ]
  },
  {
   "cell_type": "code",
   "execution_count": 44,
   "id": "70bae5bc",
   "metadata": {},
   "outputs": [],
   "source": [
    "tokenized_tweet_2 = tokenized_tweet_2.apply(lambda s:[lemmatizer.lemmatize(token) for token in s])"
   ]
  },
  {
   "cell_type": "code",
   "execution_count": 45,
   "id": "b58a6fe8",
   "metadata": {},
   "outputs": [
    {
     "data": {
      "text/plain": [
       "['coronavirus',\n",
       " 'australia',\n",
       " 'woolworth',\n",
       " 'give',\n",
       " 'elderly',\n",
       " 'disabled',\n",
       " 'dedicated',\n",
       " 'shopping',\n",
       " 'hour',\n",
       " 'amid',\n",
       " 'covid',\n",
       " 'outbreak']"
      ]
     },
     "execution_count": 45,
     "metadata": {},
     "output_type": "execute_result"
    }
   ],
   "source": [
    "tokenized_tweet_2[2]"
   ]
  },
  {
   "cell_type": "code",
   "execution_count": 46,
   "id": "1c99c2b2",
   "metadata": {},
   "outputs": [
    {
     "data": {
      "text/plain": [
       "0                                                   []\n",
       "1    [advice, talk, neighbour, family, exchange, ph...\n",
       "2    [coronavirus, australia, woolworth, give, elde...\n",
       "3    [food, stock, one, empty, please, panic, enoug...\n",
       "4    [ready, go, supermarket, covid, outbreak, para...\n",
       "5    [news, region, first, confirmed, covid, case, ...\n",
       "6    [cashier, grocery, store, sharing, insight, co...\n",
       "7    [supermarket, today, buy, toilet, paper, rebel...\n",
       "8    [due, covid, retail, store, classroom, atlanta...\n",
       "9    [corona, prevention, stop, buy, thing, cash, u...\n",
       "Name: filtered, dtype: object"
      ]
     },
     "execution_count": 46,
     "metadata": {},
     "output_type": "execute_result"
    }
   ],
   "source": [
    "tokenized_tweet_2.head(10)"
   ]
  },
  {
   "cell_type": "code",
   "execution_count": 47,
   "id": "90c199cb",
   "metadata": {},
   "outputs": [],
   "source": [
    "for i in range(len(tokenized_tweet)):\n",
    "    tokenized_tweet_2[i] = \" \".join(tokenized_tweet_2[i])\n",
    "    \n",
    "data['filtered_tweets'] = tokenized_tweet_2\n"
   ]
  },
  {
   "cell_type": "code",
   "execution_count": 48,
   "id": "ee3e6967",
   "metadata": {},
   "outputs": [
    {
     "data": {
      "text/html": [
       "<div>\n",
       "<style scoped>\n",
       "    .dataframe tbody tr th:only-of-type {\n",
       "        vertical-align: middle;\n",
       "    }\n",
       "\n",
       "    .dataframe tbody tr th {\n",
       "        vertical-align: top;\n",
       "    }\n",
       "\n",
       "    .dataframe thead th {\n",
       "        text-align: right;\n",
       "    }\n",
       "</style>\n",
       "<table border=\"1\" class=\"dataframe\">\n",
       "  <thead>\n",
       "    <tr style=\"text-align: right;\">\n",
       "      <th></th>\n",
       "      <th>UserName</th>\n",
       "      <th>ScreenName</th>\n",
       "      <th>Location</th>\n",
       "      <th>TweetAt</th>\n",
       "      <th>Sentiment</th>\n",
       "      <th>Tweet content</th>\n",
       "      <th>clean_tweet</th>\n",
       "      <th>filtered</th>\n",
       "      <th>filtered_tweets</th>\n",
       "    </tr>\n",
       "  </thead>\n",
       "  <tbody>\n",
       "    <tr>\n",
       "      <th>41147</th>\n",
       "      <td>44946</td>\n",
       "      <td>89898</td>\n",
       "      <td>Brooklyn, NY</td>\n",
       "      <td>14-04-2020</td>\n",
       "      <td>Negative</td>\n",
       "      <td>YÂall really shitting that much more at home?...</td>\n",
       "      <td>y  all really shitting that much more at home ...</td>\n",
       "      <td>really shitting much home covid coronavirus t...</td>\n",
       "      <td>really shitting much home covid coronavirus to...</td>\n",
       "    </tr>\n",
       "    <tr>\n",
       "      <th>41148</th>\n",
       "      <td>44947</td>\n",
       "      <td>89899</td>\n",
       "      <td>NaN</td>\n",
       "      <td>14-04-2020</td>\n",
       "      <td>Positive</td>\n",
       "      <td>UV light Sterilizer Sanitizer for your mask an...</td>\n",
       "      <td>uv light sterilizer sanitizer for your mask an...</td>\n",
       "      <td>uv light sterilizer sanitizer mask mobile phon...</td>\n",
       "      <td>uv light sterilizer sanitizer mask mobile phon...</td>\n",
       "    </tr>\n",
       "    <tr>\n",
       "      <th>41149</th>\n",
       "      <td>44948</td>\n",
       "      <td>89900</td>\n",
       "      <td>Toronto, Ontario</td>\n",
       "      <td>14-04-2020</td>\n",
       "      <td>Negative</td>\n",
       "      <td>Still shocked by the number of #Toronto superm...</td>\n",
       "      <td>still shocked by the number of  toronto superm...</td>\n",
       "      <td>still shocked number toronto supermarket emplo...</td>\n",
       "      <td>still shocked number toronto supermarket emplo...</td>\n",
       "    </tr>\n",
       "    <tr>\n",
       "      <th>41150</th>\n",
       "      <td>44949</td>\n",
       "      <td>89901</td>\n",
       "      <td>OHIO</td>\n",
       "      <td>14-04-2020</td>\n",
       "      <td>Positive</td>\n",
       "      <td>I never that weÂd be in a situation &amp;amp; wor...</td>\n",
       "      <td>i never that we  d be in a situation  amp  wor...</td>\n",
       "      <td>never situation amp world going supermarket p...</td>\n",
       "      <td>never situation amp world going supermarket pi...</td>\n",
       "    </tr>\n",
       "    <tr>\n",
       "      <th>41151</th>\n",
       "      <td>44950</td>\n",
       "      <td>89902</td>\n",
       "      <td>NaN</td>\n",
       "      <td>14-04-2020</td>\n",
       "      <td>Positive</td>\n",
       "      <td>@MrSilverScott you are definitely my man. I fe...</td>\n",
       "      <td>you are definitely my man  i feel like this f...</td>\n",
       "      <td>definitely man feel like fall need honor hero...</td>\n",
       "      <td>definitely man feel like fall need honor hero ...</td>\n",
       "    </tr>\n",
       "    <tr>\n",
       "      <th>41152</th>\n",
       "      <td>44951</td>\n",
       "      <td>89903</td>\n",
       "      <td>Wellington City, New Zealand</td>\n",
       "      <td>14-04-2020</td>\n",
       "      <td>Neutral</td>\n",
       "      <td>Airline pilots offering to stock supermarket s...</td>\n",
       "      <td>airline pilots offering to stock supermarket s...</td>\n",
       "      <td>airline pilots offering stock supermarket shel...</td>\n",
       "      <td>airline pilot offering stock supermarket shelf...</td>\n",
       "    </tr>\n",
       "    <tr>\n",
       "      <th>41153</th>\n",
       "      <td>44952</td>\n",
       "      <td>89904</td>\n",
       "      <td>NaN</td>\n",
       "      <td>14-04-2020</td>\n",
       "      <td>Negative</td>\n",
       "      <td>Response to complaint not provided citing COVI...</td>\n",
       "      <td>response to complaint not provided citing covi...</td>\n",
       "      <td>response complaint provided citing covid relat...</td>\n",
       "      <td>response complaint provided citing covid relat...</td>\n",
       "    </tr>\n",
       "    <tr>\n",
       "      <th>41154</th>\n",
       "      <td>44953</td>\n",
       "      <td>89905</td>\n",
       "      <td>NaN</td>\n",
       "      <td>14-04-2020</td>\n",
       "      <td>Positive</td>\n",
       "      <td>You know itÂs getting tough when @KameronWild...</td>\n",
       "      <td>you know it  s getting tough when   is rationi...</td>\n",
       "      <td>know getting tough rationing toilet paper cor...</td>\n",
       "      <td>know getting tough rationing toilet paper coro...</td>\n",
       "    </tr>\n",
       "    <tr>\n",
       "      <th>41155</th>\n",
       "      <td>44954</td>\n",
       "      <td>89906</td>\n",
       "      <td>NaN</td>\n",
       "      <td>14-04-2020</td>\n",
       "      <td>Neutral</td>\n",
       "      <td>Is it wrong that the smell of hand sanitizer i...</td>\n",
       "      <td>is it wrong that the smell of hand sanitizer i...</td>\n",
       "      <td>wrong smell hand sanitizer starting turn coro...</td>\n",
       "      <td>wrong smell hand sanitizer starting turn coron...</td>\n",
       "    </tr>\n",
       "    <tr>\n",
       "      <th>41156</th>\n",
       "      <td>44955</td>\n",
       "      <td>89907</td>\n",
       "      <td>i love you so much || he/him</td>\n",
       "      <td>14-04-2020</td>\n",
       "      <td>Negative</td>\n",
       "      <td>@TartiiCat Well new/used Rift S are going for ...</td>\n",
       "      <td>well new used rift s are going for         on...</td>\n",
       "      <td>well new used rift going amazon rn although n...</td>\n",
       "      <td>well new used rift going amazon rn although no...</td>\n",
       "    </tr>\n",
       "  </tbody>\n",
       "</table>\n",
       "</div>"
      ],
      "text/plain": [
       "       UserName  ScreenName                      Location     TweetAt  \\\n",
       "41147     44946       89898                  Brooklyn, NY  14-04-2020   \n",
       "41148     44947       89899                           NaN  14-04-2020   \n",
       "41149     44948       89900              Toronto, Ontario  14-04-2020   \n",
       "41150     44949       89901                          OHIO  14-04-2020   \n",
       "41151     44950       89902                           NaN  14-04-2020   \n",
       "41152     44951       89903  Wellington City, New Zealand  14-04-2020   \n",
       "41153     44952       89904                           NaN  14-04-2020   \n",
       "41154     44953       89905                           NaN  14-04-2020   \n",
       "41155     44954       89906                           NaN  14-04-2020   \n",
       "41156     44955       89907  i love you so much || he/him  14-04-2020   \n",
       "\n",
       "      Sentiment                                      Tweet content  \\\n",
       "41147  Negative  YÂall really shitting that much more at home?...   \n",
       "41148  Positive  UV light Sterilizer Sanitizer for your mask an...   \n",
       "41149  Negative  Still shocked by the number of #Toronto superm...   \n",
       "41150  Positive  I never that weÂd be in a situation &amp; wor...   \n",
       "41151  Positive  @MrSilverScott you are definitely my man. I fe...   \n",
       "41152   Neutral  Airline pilots offering to stock supermarket s...   \n",
       "41153  Negative  Response to complaint not provided citing COVI...   \n",
       "41154  Positive  You know itÂs getting tough when @KameronWild...   \n",
       "41155   Neutral  Is it wrong that the smell of hand sanitizer i...   \n",
       "41156  Negative  @TartiiCat Well new/used Rift S are going for ...   \n",
       "\n",
       "                                             clean_tweet  \\\n",
       "41147  y  all really shitting that much more at home ...   \n",
       "41148  uv light sterilizer sanitizer for your mask an...   \n",
       "41149  still shocked by the number of  toronto superm...   \n",
       "41150  i never that we  d be in a situation  amp  wor...   \n",
       "41151   you are definitely my man  i feel like this f...   \n",
       "41152  airline pilots offering to stock supermarket s...   \n",
       "41153  response to complaint not provided citing covi...   \n",
       "41154  you know it  s getting tough when   is rationi...   \n",
       "41155  is it wrong that the smell of hand sanitizer i...   \n",
       "41156   well new used rift s are going for         on...   \n",
       "\n",
       "                                                filtered  \\\n",
       "41147   really shitting much home covid coronavirus t...   \n",
       "41148  uv light sterilizer sanitizer mask mobile phon...   \n",
       "41149  still shocked number toronto supermarket emplo...   \n",
       "41150   never situation amp world going supermarket p...   \n",
       "41151   definitely man feel like fall need honor hero...   \n",
       "41152  airline pilots offering stock supermarket shel...   \n",
       "41153  response complaint provided citing covid relat...   \n",
       "41154   know getting tough rationing toilet paper cor...   \n",
       "41155   wrong smell hand sanitizer starting turn coro...   \n",
       "41156   well new used rift going amazon rn although n...   \n",
       "\n",
       "                                         filtered_tweets  \n",
       "41147  really shitting much home covid coronavirus to...  \n",
       "41148  uv light sterilizer sanitizer mask mobile phon...  \n",
       "41149  still shocked number toronto supermarket emplo...  \n",
       "41150  never situation amp world going supermarket pi...  \n",
       "41151  definitely man feel like fall need honor hero ...  \n",
       "41152  airline pilot offering stock supermarket shelf...  \n",
       "41153  response complaint provided citing covid relat...  \n",
       "41154  know getting tough rationing toilet paper coro...  \n",
       "41155  wrong smell hand sanitizer starting turn coron...  \n",
       "41156  well new used rift going amazon rn although no...  "
      ]
     },
     "execution_count": 48,
     "metadata": {},
     "output_type": "execute_result"
    }
   ],
   "source": [
    "data.tail(10)"
   ]
  },
  {
   "cell_type": "code",
   "execution_count": 49,
   "id": "9fa0730b",
   "metadata": {},
   "outputs": [],
   "source": [
    "# x=data.filtered_tweets\n",
    "# y=data.Sentiment\n"
   ]
  },
  {
   "cell_type": "markdown",
   "id": "d4d3110b",
   "metadata": {},
   "source": [
    "# 3) Text Representation\n",
    "### we have used here TF_IDF Vectoriser"
   ]
  },
  {
   "cell_type": "code",
   "execution_count": 50,
   "id": "df7c9cc5",
   "metadata": {},
   "outputs": [
    {
     "name": "stdout",
     "output_type": "stream",
     "text": [
      "  (1, 24735)\t0.12963916610232937\n",
      "  (1, 21563)\t0.20845180762124255\n",
      "  (1, 28566)\t0.18037344329374463\n",
      "  (1, 33814)\t0.10906999107074745\n",
      "  (1, 369)\t0.218387821754759\n",
      "  (1, 26415)\t0.2220710918021546\n",
      "  (1, 201)\t0.1795592940011966\n",
      "  (1, 31316)\t0.09305900454310115\n",
      "  (1, 24553)\t0.09526610049130634\n",
      "  (1, 30936)\t0.15699786934590435\n",
      "  (1, 14668)\t0.23440524443869507\n",
      "  (1, 5602)\t0.2056427574533741\n",
      "  (1, 11163)\t0.20034113155821454\n",
      "  (1, 30443)\t0.15990265145711427\n",
      "  (1, 20133)\t0.15171034623741347\n",
      "  (1, 6925)\t0.15508971371469102\n",
      "  (1, 7949)\t0.18164326983334717\n",
      "  (1, 24062)\t0.3024422680482888\n",
      "  (1, 26034)\t0.3444848922070641\n",
      "  (1, 11812)\t0.21029124847839967\n",
      "  (1, 12190)\t0.12970088214279366\n",
      "  (1, 23326)\t0.39488962044759207\n",
      "  (1, 34247)\t0.1661412282665369\n",
      "  (1, 482)\t0.16107907689374706\n",
      "  (2, 24875)\t0.24032648815574217\n",
      "  :\t:\n",
      "  (41155, 7334)\t0.24277421674936095\n",
      "  (41156, 38341)\t0.3178560209879215\n",
      "  (41156, 29344)\t0.3178560209879215\n",
      "  (41156, 16020)\t0.3060668502530023\n",
      "  (41156, 15587)\t0.27754858001389243\n",
      "  (41156, 869)\t0.25739485952687796\n",
      "  (41156, 37630)\t0.26575940927897324\n",
      "  (41156, 36947)\t0.1729543064775811\n",
      "  (41156, 36995)\t0.21406945696261592\n",
      "  (41156, 1365)\t0.17926862052263187\n",
      "  (41156, 38833)\t0.18702102824173342\n",
      "  (41156, 1036)\t0.22149383377367365\n",
      "  (41156, 29455)\t0.2286503183201315\n",
      "  (41156, 28240)\t0.15045797535128302\n",
      "  (41156, 7933)\t0.1828172317684155\n",
      "  (41156, 38123)\t0.145256545957741\n",
      "  (41156, 21185)\t0.1279451768180773\n",
      "  (41156, 31595)\t0.1495980873454796\n",
      "  (41156, 27010)\t0.15421439797178008\n",
      "  (41156, 14471)\t0.11973456526316449\n",
      "  (41156, 23409)\t0.12297416132710806\n",
      "  (41156, 29350)\t0.1381678800909286\n",
      "  (41156, 1081)\t0.1664662576363041\n",
      "  (41156, 23822)\t0.16662601448108963\n",
      "  (41156, 7737)\t0.0493539931915847\n"
     ]
    }
   ],
   "source": [
    "#problem\n",
    "from sklearn.feature_extraction.text import TfidfVectorizer\n",
    "#vectorizer = TfidfVectorizer()\n",
    "tfidf = TfidfVectorizer()\n",
    "bow = tfidf.fit_transform(data['filtered_tweets'])\n",
    "print(bow)"
   ]
  },
  {
   "cell_type": "code",
   "execution_count": 51,
   "id": "1953d0af",
   "metadata": {},
   "outputs": [
    {
     "name": "stdout",
     "output_type": "stream",
     "text": [
      "[10.52656131  9.54573206 10.93202642 ... 10.93202642 10.93202642\n",
      " 10.93202642]\n",
      "total features : 39429\n"
     ]
    },
    {
     "data": {
      "text/plain": [
       "array(['aa', 'aaa', 'aaaaakubosan', ..., 'zwoferink', 'zzz', 'zzzz'],\n",
       "      dtype=object)"
      ]
     },
     "execution_count": 51,
     "metadata": {},
     "output_type": "execute_result"
    }
   ],
   "source": [
    "\n",
    "print(tfidf.idf_)\n",
    "print(\"total features :\", len(tfidf.get_feature_names_out()))\n",
    "tfidf.get_feature_names_out()"
   ]
  },
  {
   "cell_type": "code",
   "execution_count": 52,
   "id": "30a47869",
   "metadata": {},
   "outputs": [],
   "source": [
    "# print(tfidf.vocabulary_)"
   ]
  },
  {
   "cell_type": "markdown",
   "id": "e6d5d9fb",
   "metadata": {},
   "source": [
    "# Data Modeling"
   ]
  },
  {
   "cell_type": "code",
   "execution_count": 53,
   "id": "49f8f0ed",
   "metadata": {},
   "outputs": [],
   "source": [
    "from sklearn import model_selection\n",
    "X = bow\n",
    "y = data[\"Sentiment\"].values\n",
    "Train_X, Test_X, Train_Y, Test_Y = model_selection.train_test_split(X,y,test_size=0.2)"
   ]
  },
  {
   "cell_type": "code",
   "execution_count": 54,
   "id": "b3e4d07b",
   "metadata": {},
   "outputs": [
    {
     "name": "stdout",
     "output_type": "stream",
     "text": [
      "(41157, 39429) (32925, 39429) (8232, 39429)\n"
     ]
    }
   ],
   "source": [
    "print(X.shape, Train_X.shape, Test_X.shape)"
   ]
  },
  {
   "cell_type": "code",
   "execution_count": 55,
   "id": "73843eee",
   "metadata": {},
   "outputs": [
    {
     "name": "stdout",
     "output_type": "stream",
     "text": [
      "TRAIN size: 32925\n",
      "TEST size: 8232\n"
     ]
    }
   ],
   "source": [
    "print(\"TRAIN size:\", Train_X.shape[0])\n",
    "print(\"TEST size:\", Test_X.shape[0])"
   ]
  },
  {
   "cell_type": "code",
   "execution_count": 56,
   "id": "c33dac63",
   "metadata": {},
   "outputs": [],
   "source": [
    "# # Building a Support Vector Machine on train data\n",
    "# from sklearn.svm import SVC\n",
    "# svc_model = SVC(C= .1, kernel='linear', gamma= 1)\n",
    "# svc_model.fit(Train_X, Train_Y)"
   ]
  },
  {
   "cell_type": "markdown",
   "id": "013124bb",
   "metadata": {},
   "source": [
    "# TESTING\n",
    "## 1- Random Forest Classifier\n",
    "## 2- Logistic Regression\n",
    "## 3-  knn classifier "
   ]
  },
  {
   "cell_type": "markdown",
   "id": "bc219a4f",
   "metadata": {},
   "source": [
    "# Random Forest Classifier"
   ]
  },
  {
   "cell_type": "code",
   "execution_count": 57,
   "id": "059a3a9b",
   "metadata": {},
   "outputs": [
    {
     "data": {
      "text/html": [
       "<style>#sk-container-id-1 {color: black;background-color: white;}#sk-container-id-1 pre{padding: 0;}#sk-container-id-1 div.sk-toggleable {background-color: white;}#sk-container-id-1 label.sk-toggleable__label {cursor: pointer;display: block;width: 100%;margin-bottom: 0;padding: 0.3em;box-sizing: border-box;text-align: center;}#sk-container-id-1 label.sk-toggleable__label-arrow:before {content: \"▸\";float: left;margin-right: 0.25em;color: #696969;}#sk-container-id-1 label.sk-toggleable__label-arrow:hover:before {color: black;}#sk-container-id-1 div.sk-estimator:hover label.sk-toggleable__label-arrow:before {color: black;}#sk-container-id-1 div.sk-toggleable__content {max-height: 0;max-width: 0;overflow: hidden;text-align: left;background-color: #f0f8ff;}#sk-container-id-1 div.sk-toggleable__content pre {margin: 0.2em;color: black;border-radius: 0.25em;background-color: #f0f8ff;}#sk-container-id-1 input.sk-toggleable__control:checked~div.sk-toggleable__content {max-height: 200px;max-width: 100%;overflow: auto;}#sk-container-id-1 input.sk-toggleable__control:checked~label.sk-toggleable__label-arrow:before {content: \"▾\";}#sk-container-id-1 div.sk-estimator input.sk-toggleable__control:checked~label.sk-toggleable__label {background-color: #d4ebff;}#sk-container-id-1 div.sk-label input.sk-toggleable__control:checked~label.sk-toggleable__label {background-color: #d4ebff;}#sk-container-id-1 input.sk-hidden--visually {border: 0;clip: rect(1px 1px 1px 1px);clip: rect(1px, 1px, 1px, 1px);height: 1px;margin: -1px;overflow: hidden;padding: 0;position: absolute;width: 1px;}#sk-container-id-1 div.sk-estimator {font-family: monospace;background-color: #f0f8ff;border: 1px dotted black;border-radius: 0.25em;box-sizing: border-box;margin-bottom: 0.5em;}#sk-container-id-1 div.sk-estimator:hover {background-color: #d4ebff;}#sk-container-id-1 div.sk-parallel-item::after {content: \"\";width: 100%;border-bottom: 1px solid gray;flex-grow: 1;}#sk-container-id-1 div.sk-label:hover label.sk-toggleable__label {background-color: #d4ebff;}#sk-container-id-1 div.sk-serial::before {content: \"\";position: absolute;border-left: 1px solid gray;box-sizing: border-box;top: 0;bottom: 0;left: 50%;z-index: 0;}#sk-container-id-1 div.sk-serial {display: flex;flex-direction: column;align-items: center;background-color: white;padding-right: 0.2em;padding-left: 0.2em;position: relative;}#sk-container-id-1 div.sk-item {position: relative;z-index: 1;}#sk-container-id-1 div.sk-parallel {display: flex;align-items: stretch;justify-content: center;background-color: white;position: relative;}#sk-container-id-1 div.sk-item::before, #sk-container-id-1 div.sk-parallel-item::before {content: \"\";position: absolute;border-left: 1px solid gray;box-sizing: border-box;top: 0;bottom: 0;left: 50%;z-index: -1;}#sk-container-id-1 div.sk-parallel-item {display: flex;flex-direction: column;z-index: 1;position: relative;background-color: white;}#sk-container-id-1 div.sk-parallel-item:first-child::after {align-self: flex-end;width: 50%;}#sk-container-id-1 div.sk-parallel-item:last-child::after {align-self: flex-start;width: 50%;}#sk-container-id-1 div.sk-parallel-item:only-child::after {width: 0;}#sk-container-id-1 div.sk-dashed-wrapped {border: 1px dashed gray;margin: 0 0.4em 0.5em 0.4em;box-sizing: border-box;padding-bottom: 0.4em;background-color: white;}#sk-container-id-1 div.sk-label label {font-family: monospace;font-weight: bold;display: inline-block;line-height: 1.2em;}#sk-container-id-1 div.sk-label-container {text-align: center;}#sk-container-id-1 div.sk-container {/* jupyter's `normalize.less` sets `[hidden] { display: none; }` but bootstrap.min.css set `[hidden] { display: none !important; }` so we also need the `!important` here to be able to override the default hidden behavior on the sphinx rendered scikit-learn.org. See: https://github.com/scikit-learn/scikit-learn/issues/21755 */display: inline-block !important;position: relative;}#sk-container-id-1 div.sk-text-repr-fallback {display: none;}</style><div id=\"sk-container-id-1\" class=\"sk-top-container\"><div class=\"sk-text-repr-fallback\"><pre>RandomForestClassifier()</pre><b>In a Jupyter environment, please rerun this cell to show the HTML representation or trust the notebook. <br />On GitHub, the HTML representation is unable to render, please try loading this page with nbviewer.org.</b></div><div class=\"sk-container\" hidden><div class=\"sk-item\"><div class=\"sk-estimator sk-toggleable\"><input class=\"sk-toggleable__control sk-hidden--visually\" id=\"sk-estimator-id-1\" type=\"checkbox\" checked><label for=\"sk-estimator-id-1\" class=\"sk-toggleable__label sk-toggleable__label-arrow\">RandomForestClassifier</label><div class=\"sk-toggleable__content\"><pre>RandomForestClassifier()</pre></div></div></div></div></div>"
      ],
      "text/plain": [
       "RandomForestClassifier()"
      ]
     },
     "execution_count": 57,
     "metadata": {},
     "output_type": "execute_result"
    }
   ],
   "source": [
    "# from sklearn.neighbors import KNeighborsClassifier\n",
    "# from sklearn.linear_model import LogisticRegression\n",
    "from sklearn.metrics import classification_report\n",
    "from sklearn.ensemble import RandomForestClassifier\n",
    "model = RandomForestClassifier()\n",
    "#model_2 = LogisticRegression()\n",
    "#model.fit(Train_X, Train_Y)\n",
    "model.fit(Train_X,Train_Y)"
   ]
  },
  {
   "cell_type": "code",
   "execution_count": 58,
   "id": "553dd308",
   "metadata": {},
   "outputs": [
    {
     "name": "stdout",
     "output_type": "stream",
     "text": [
      "Random Forest Classification \n",
      "Accuracy of Training set: 0.9998785117691723\n",
      "Accuracy of Test set   :  0.728377065111759\n",
      "              precision    recall  f1-score   support\n",
      "\n",
      "    Negative       0.75      0.71      0.73      3106\n",
      "     Neutral       0.67      0.56      0.61      1553\n",
      "    Positive       0.73      0.81      0.77      3573\n",
      "\n",
      "    accuracy                           0.73      8232\n",
      "   macro avg       0.72      0.70      0.70      8232\n",
      "weighted avg       0.73      0.73      0.73      8232\n",
      "\n"
     ]
    }
   ],
   "source": [
    "prediction = model.predict(Test_X)\n",
    "print(\"Random Forest Classification \")\n",
    "# # check the accuracy on the training set\n",
    "rf_train = model.score(Train_X,Train_Y)\n",
    "rf_test  = model.score(Test_X, Test_Y)\n",
    "print(\"Accuracy of Training set:\",rf_train)\n",
    "print(\"Accuracy of Test set   : \",rf_test)\n",
    "\n",
    "print(classification_report(Test_Y, prediction))"
   ]
  },
  {
   "cell_type": "code",
   "execution_count": 59,
   "id": "5bb6b7d6",
   "metadata": {},
   "outputs": [
    {
     "data": {
      "image/png": "[encoded data removed]",
      "text/plain": [
       "<Figure size 640x480 with 2 Axes>"
      ]
     },
     "metadata": {},
     "output_type": "display_data"
    }
   ],
   "source": [
    "from sklearn.metrics import confusion_matrix\n",
    "\n",
    "# Generate a confusion matrix\n",
    "labels = ['Negative', 'Neutral', 'Positive']\n",
    "cm = confusion_matrix(Test_Y,prediction,labels=labels)\n",
    "\n",
    "\n",
    "# Create a heatmap using Seaborn\n",
    "sns.heatmap(cm, annot=True, cmap='Blues', fmt='g',xticklabels=labels, yticklabels=labels)\n",
    "\n",
    "# Add labels and title\n",
    "plt.xlabel('Predicted')\n",
    "plt.ylabel('Actual')\n",
    "plt.title('Confusion Matrix Of RF Model')\n",
    "\n",
    "# Show the plot\n",
    "plt.show()"
   ]
  },
  {
   "cell_type": "code",
   "execution_count": 60,
   "id": "3fa6a76a",
   "metadata": {},
   "outputs": [
    {
     "name": "stdout",
     "output_type": "stream",
     "text": [
      "Accuracy: 0.728377065111759\n"
     ]
    }
   ],
   "source": [
    "acRf = accuracy_score(Test_Y,prediction)\n",
    "print(\"Accuracy:\", acRf)"
   ]
  },
  {
   "cell_type": "markdown",
   "id": "b3b71d11",
   "metadata": {},
   "source": [
    "# Logistic regression"
   ]
  },
  {
   "cell_type": "code",
   "execution_count": 61,
   "id": "7d8e014d",
   "metadata": {},
   "outputs": [
    {
     "data": {
      "text/html": [
       "<style>#sk-container-id-2 {color: black;background-color: white;}#sk-container-id-2 pre{padding: 0;}#sk-container-id-2 div.sk-toggleable {background-color: white;}#sk-container-id-2 label.sk-toggleable__label {cursor: pointer;display: block;width: 100%;margin-bottom: 0;padding: 0.3em;box-sizing: border-box;text-align: center;}#sk-container-id-2 label.sk-toggleable__label-arrow:before {content: \"▸\";float: left;margin-right: 0.25em;color: #696969;}#sk-container-id-2 label.sk-toggleable__label-arrow:hover:before {color: black;}#sk-container-id-2 div.sk-estimator:hover label.sk-toggleable__label-arrow:before {color: black;}#sk-container-id-2 div.sk-toggleable__content {max-height: 0;max-width: 0;overflow: hidden;text-align: left;background-color: #f0f8ff;}#sk-container-id-2 div.sk-toggleable__content pre {margin: 0.2em;color: black;border-radius: 0.25em;background-color: #f0f8ff;}#sk-container-id-2 input.sk-toggleable__control:checked~div.sk-toggleable__content {max-height: 200px;max-width: 100%;overflow: auto;}#sk-container-id-2 input.sk-toggleable__control:checked~label.sk-toggleable__label-arrow:before {content: \"▾\";}#sk-container-id-2 div.sk-estimator input.sk-toggleable__control:checked~label.sk-toggleable__label {background-color: #d4ebff;}#sk-container-id-2 div.sk-label input.sk-toggleable__control:checked~label.sk-toggleable__label {background-color: #d4ebff;}#sk-container-id-2 input.sk-hidden--visually {border: 0;clip: rect(1px 1px 1px 1px);clip: rect(1px, 1px, 1px, 1px);height: 1px;margin: -1px;overflow: hidden;padding: 0;position: absolute;width: 1px;}#sk-container-id-2 div.sk-estimator {font-family: monospace;background-color: #f0f8ff;border: 1px dotted black;border-radius: 0.25em;box-sizing: border-box;margin-bottom: 0.5em;}#sk-container-id-2 div.sk-estimator:hover {background-color: #d4ebff;}#sk-container-id-2 div.sk-parallel-item::after {content: \"\";width: 100%;border-bottom: 1px solid gray;flex-grow: 1;}#sk-container-id-2 div.sk-label:hover label.sk-toggleable__label {background-color: #d4ebff;}#sk-container-id-2 div.sk-serial::before {content: \"\";position: absolute;border-left: 1px solid gray;box-sizing: border-box;top: 0;bottom: 0;left: 50%;z-index: 0;}#sk-container-id-2 div.sk-serial {display: flex;flex-direction: column;align-items: center;background-color: white;padding-right: 0.2em;padding-left: 0.2em;position: relative;}#sk-container-id-2 div.sk-item {position: relative;z-index: 1;}#sk-container-id-2 div.sk-parallel {display: flex;align-items: stretch;justify-content: center;background-color: white;position: relative;}#sk-container-id-2 div.sk-item::before, #sk-container-id-2 div.sk-parallel-item::before {content: \"\";position: absolute;border-left: 1px solid gray;box-sizing: border-box;top: 0;bottom: 0;left: 50%;z-index: -1;}#sk-container-id-2 div.sk-parallel-item {display: flex;flex-direction: column;z-index: 1;position: relative;background-color: white;}#sk-container-id-2 div.sk-parallel-item:first-child::after {align-self: flex-end;width: 50%;}#sk-container-id-2 div.sk-parallel-item:last-child::after {align-self: flex-start;width: 50%;}#sk-container-id-2 div.sk-parallel-item:only-child::after {width: 0;}#sk-container-id-2 div.sk-dashed-wrapped {border: 1px dashed gray;margin: 0 0.4em 0.5em 0.4em;box-sizing: border-box;padding-bottom: 0.4em;background-color: white;}#sk-container-id-2 div.sk-label label {font-family: monospace;font-weight: bold;display: inline-block;line-height: 1.2em;}#sk-container-id-2 div.sk-label-container {text-align: center;}#sk-container-id-2 div.sk-container {/* jupyter's `normalize.less` sets `[hidden] { display: none; }` but bootstrap.min.css set `[hidden] { display: none !important; }` so we also need the `!important` here to be able to override the default hidden behavior on the sphinx rendered scikit-learn.org. See: https://github.com/scikit-learn/scikit-learn/issues/21755 */display: inline-block !important;position: relative;}#sk-container-id-2 div.sk-text-repr-fallback {display: none;}</style><div id=\"sk-container-id-2\" class=\"sk-top-container\"><div class=\"sk-text-repr-fallback\"><pre>LogisticRegression()</pre><b>In a Jupyter environment, please rerun this cell to show the HTML representation or trust the notebook. <br />On GitHub, the HTML representation is unable to render, please try loading this page with nbviewer.org.</b></div><div class=\"sk-container\" hidden><div class=\"sk-item\"><div class=\"sk-estimator sk-toggleable\"><input class=\"sk-toggleable__control sk-hidden--visually\" id=\"sk-estimator-id-2\" type=\"checkbox\" checked><label for=\"sk-estimator-id-2\" class=\"sk-toggleable__label sk-toggleable__label-arrow\">LogisticRegression</label><div class=\"sk-toggleable__content\"><pre>LogisticRegression()</pre></div></div></div></div></div>"
      ],
      "text/plain": [
       "LogisticRegression()"
      ]
     },
     "execution_count": 61,
     "metadata": {},
     "output_type": "execute_result"
    }
   ],
   "source": [
    "from sklearn.linear_model import LogisticRegression\n",
    "from sklearn.neighbors import KNeighborsClassifier\n",
    "model2 = LogisticRegression()\n",
    "model2.fit(Train_X,Train_Y)"
   ]
  },
  {
   "cell_type": "code",
   "execution_count": 62,
   "id": "2528735f",
   "metadata": {},
   "outputs": [
    {
     "name": "stdout",
     "output_type": "stream",
     "text": [
      "Logistic Regression \n",
      "Accuracy of Training set: 0.8997418375094912\n",
      "Accuracy of Test set   :  0.7972546161321672\n",
      "              precision    recall  f1-score   support\n",
      "\n",
      "    Negative       0.80      0.82      0.81      3106\n",
      "     Neutral       0.76      0.61      0.67      1553\n",
      "    Positive       0.81      0.86      0.83      3573\n",
      "\n",
      "    accuracy                           0.80      8232\n",
      "   macro avg       0.79      0.76      0.77      8232\n",
      "weighted avg       0.80      0.80      0.79      8232\n",
      "\n"
     ]
    }
   ],
   "source": [
    "prediction2= model2.predict(Test_X)\n",
    "print(\"Logistic Regression \")\n",
    "# # check the accuracy on the training set\n",
    "log_train = model2.score(Train_X,Train_Y)\n",
    "log_test  = model2.score(Test_X, Test_Y)\n",
    "print(\"Accuracy of Training set:\",log_train)\n",
    "print(\"Accuracy of Test set   : \",log_test)\n",
    "print(classification_report(Test_Y, prediction2))"
   ]
  },
  {
   "cell_type": "code",
   "execution_count": 63,
   "id": "3ed9b55f",
   "metadata": {},
   "outputs": [
    {
     "name": "stdout",
     "output_type": "stream",
     "text": [
      "Accuracy: 0.7972546161321672\n"
     ]
    }
   ],
   "source": [
    "aclog = accuracy_score(Test_Y,prediction2)\n",
    "print(\"Accuracy:\", aclog)"
   ]
  },
  {
   "cell_type": "code",
   "execution_count": 76,
   "id": "d19fdf7d",
   "metadata": {},
   "outputs": [
    {
     "data": {
      "image/png": "[encoded data removed]",
      "text/plain": [
       "<Figure size 640x480 with 2 Axes>"
      ]
     },
     "metadata": {},
     "output_type": "display_data"
    }
   ],
   "source": [
    "from sklearn.metrics import confusion_matrix\n",
    "\n",
    "# Generate a confusion matrix\n",
    "labels = ['Negative', 'Neutral', 'Positive']\n",
    "cm = confusion_matrix(Test_Y,prediction2,labels=labels)\n",
    "\n",
    "\n",
    "# Create a heatmap using Seaborn\n",
    "sns.heatmap(cm, annot=True, cmap='Blues', fmt='g',xticklabels=labels, yticklabels=labels)\n",
    "\n",
    "# Add labels and title\n",
    "plt.xlabel('Predicted')\n",
    "plt.ylabel('Actual')\n",
    "plt.title('Confusion Matrix Of LR Model')\n",
    "\n",
    "# Show the plot\n",
    "plt.show()"
   ]
  },
  {
   "cell_type": "markdown",
   "id": "50ecb3cf",
   "metadata": {},
   "source": [
    "# KNN CLASSIFICATION"
   ]
  },
  {
   "cell_type": "code",
   "execution_count": 78,
   "id": "3e30974a",
   "metadata": {},
   "outputs": [
    {
     "data": {
      "text/html": [
       "<style>#sk-container-id-4 {color: black;background-color: white;}#sk-container-id-4 pre{padding: 0;}#sk-container-id-4 div.sk-toggleable {background-color: white;}#sk-container-id-4 label.sk-toggleable__label {cursor: pointer;display: block;width: 100%;margin-bottom: 0;padding: 0.3em;box-sizing: border-box;text-align: center;}#sk-container-id-4 label.sk-toggleable__label-arrow:before {content: \"▸\";float: left;margin-right: 0.25em;color: #696969;}#sk-container-id-4 label.sk-toggleable__label-arrow:hover:before {color: black;}#sk-container-id-4 div.sk-estimator:hover label.sk-toggleable__label-arrow:before {color: black;}#sk-container-id-4 div.sk-toggleable__content {max-height: 0;max-width: 0;overflow: hidden;text-align: left;background-color: #f0f8ff;}#sk-container-id-4 div.sk-toggleable__content pre {margin: 0.2em;color: black;border-radius: 0.25em;background-color: #f0f8ff;}#sk-container-id-4 input.sk-toggleable__control:checked~div.sk-toggleable__content {max-height: 200px;max-width: 100%;overflow: auto;}#sk-container-id-4 input.sk-toggleable__control:checked~label.sk-toggleable__label-arrow:before {content: \"▾\";}#sk-container-id-4 div.sk-estimator input.sk-toggleable__control:checked~label.sk-toggleable__label {background-color: #d4ebff;}#sk-container-id-4 div.sk-label input.sk-toggleable__control:checked~label.sk-toggleable__label {background-color: #d4ebff;}#sk-container-id-4 input.sk-hidden--visually {border: 0;clip: rect(1px 1px 1px 1px);clip: rect(1px, 1px, 1px, 1px);height: 1px;margin: -1px;overflow: hidden;padding: 0;position: absolute;width: 1px;}#sk-container-id-4 div.sk-estimator {font-family: monospace;background-color: #f0f8ff;border: 1px dotted black;border-radius: 0.25em;box-sizing: border-box;margin-bottom: 0.5em;}#sk-container-id-4 div.sk-estimator:hover {background-color: #d4ebff;}#sk-container-id-4 div.sk-parallel-item::after {content: \"\";width: 100%;border-bottom: 1px solid gray;flex-grow: 1;}#sk-container-id-4 div.sk-label:hover label.sk-toggleable__label {background-color: #d4ebff;}#sk-container-id-4 div.sk-serial::before {content: \"\";position: absolute;border-left: 1px solid gray;box-sizing: border-box;top: 0;bottom: 0;left: 50%;z-index: 0;}#sk-container-id-4 div.sk-serial {display: flex;flex-direction: column;align-items: center;background-color: white;padding-right: 0.2em;padding-left: 0.2em;position: relative;}#sk-container-id-4 div.sk-item {position: relative;z-index: 1;}#sk-container-id-4 div.sk-parallel {display: flex;align-items: stretch;justify-content: center;background-color: white;position: relative;}#sk-container-id-4 div.sk-item::before, #sk-container-id-4 div.sk-parallel-item::before {content: \"\";position: absolute;border-left: 1px solid gray;box-sizing: border-box;top: 0;bottom: 0;left: 50%;z-index: -1;}#sk-container-id-4 div.sk-parallel-item {display: flex;flex-direction: column;z-index: 1;position: relative;background-color: white;}#sk-container-id-4 div.sk-parallel-item:first-child::after {align-self: flex-end;width: 50%;}#sk-container-id-4 div.sk-parallel-item:last-child::after {align-self: flex-start;width: 50%;}#sk-container-id-4 div.sk-parallel-item:only-child::after {width: 0;}#sk-container-id-4 div.sk-dashed-wrapped {border: 1px dashed gray;margin: 0 0.4em 0.5em 0.4em;box-sizing: border-box;padding-bottom: 0.4em;background-color: white;}#sk-container-id-4 div.sk-label label {font-family: monospace;font-weight: bold;display: inline-block;line-height: 1.2em;}#sk-container-id-4 div.sk-label-container {text-align: center;}#sk-container-id-4 div.sk-container {/* jupyter's `normalize.less` sets `[hidden] { display: none; }` but bootstrap.min.css set `[hidden] { display: none !important; }` so we also need the `!important` here to be able to override the default hidden behavior on the sphinx rendered scikit-learn.org. See: https://github.com/scikit-learn/scikit-learn/issues/21755 */display: inline-block !important;position: relative;}#sk-container-id-4 div.sk-text-repr-fallback {display: none;}</style><div id=\"sk-container-id-4\" class=\"sk-top-container\"><div class=\"sk-text-repr-fallback\"><pre>KNeighborsClassifier(n_neighbors=3)</pre><b>In a Jupyter environment, please rerun this cell to show the HTML representation or trust the notebook. <br />On GitHub, the HTML representation is unable to render, please try loading this page with nbviewer.org.</b></div><div class=\"sk-container\" hidden><div class=\"sk-item\"><div class=\"sk-estimator sk-toggleable\"><input class=\"sk-toggleable__control sk-hidden--visually\" id=\"sk-estimator-id-4\" type=\"checkbox\" checked><label for=\"sk-estimator-id-4\" class=\"sk-toggleable__label sk-toggleable__label-arrow\">KNeighborsClassifier</label><div class=\"sk-toggleable__content\"><pre>KNeighborsClassifier(n_neighbors=3)</pre></div></div></div></div></div>"
      ],
      "text/plain": [
       "KNeighborsClassifier(n_neighbors=3)"
      ]
     },
     "execution_count": 78,
     "metadata": {},
     "output_type": "execute_result"
    }
   ],
   "source": [
    "#from sklearn.neighbors import KNeighborsClassifier\n",
    "knn = KNeighborsClassifier(n_neighbors=3)\n",
    "knn.fit(Train_X,Train_Y)\n"
   ]
  },
  {
   "cell_type": "code",
   "execution_count": 79,
   "id": "9aa9c44a",
   "metadata": {},
   "outputs": [],
   "source": [
    "y_pred = knn.predict(Test_X)"
   ]
  },
  {
   "cell_type": "code",
   "execution_count": 66,
   "id": "7b69d1da",
   "metadata": {},
   "outputs": [
    {
     "name": "stdout",
     "output_type": "stream",
     "text": [
      "Accuracy: 0.20493197278911565\n"
     ]
    }
   ],
   "source": [
    "acknn = accuracy_score(Test_Y, y_pred)\n",
    "print(\"Accuracy:\", acknn)"
   ]
  },
  {
   "cell_type": "code",
   "execution_count": 67,
   "id": "a20881f4",
   "metadata": {},
   "outputs": [
    {
     "name": "stdout",
     "output_type": "stream",
     "text": [
      "Accuracy of Training set: 0.20965831435079726\n",
      "Accuracy of Test set   :  0.20493197278911565\n",
      "              precision    recall  f1-score   support\n",
      "\n",
      "    Negative       0.82      0.02      0.05      3106\n",
      "     Neutral       0.19      0.99      0.32      1553\n",
      "    Positive       0.89      0.02      0.04      3573\n",
      "\n",
      "    accuracy                           0.20      8232\n",
      "   macro avg       0.63      0.35      0.14      8232\n",
      "weighted avg       0.73      0.20      0.09      8232\n",
      "\n"
     ]
    }
   ],
   "source": [
    "knn_train = knn.score(Train_X,Train_Y)\n",
    "knn_test  = knn.score(Test_X, Test_Y)\n",
    "print(\"Accuracy of Training set:\",knn_train)\n",
    "print(\"Accuracy of Test set   : \",knn_test)\n",
    "print(classification_report(Test_Y,y_pred))\n"
   ]
  },
  {
   "cell_type": "code",
   "execution_count": 81,
   "id": "f1e7289d",
   "metadata": {},
   "outputs": [
    {
     "data": {
      "image/png": "[encoded data removed]",
      "text/plain": [
       "<Figure size 640x480 with 2 Axes>"
      ]
     },
     "metadata": {},
     "output_type": "display_data"
    }
   ],
   "source": [
    "from sklearn.metrics import confusion_matrix\n",
    "\n",
    "# Generate a confusion matrix\n",
    "labels = ['Negative', 'Neutral', 'Positive']\n",
    "cm = confusion_matrix(Test_Y,y_pred,labels=labels)\n",
    "\n",
    "\n",
    "# Create a heatmap using Seaborn\n",
    "sns.heatmap(cm, annot=True, cmap='Blues', fmt='g',xticklabels=labels, yticklabels=labels)\n",
    "\n",
    "# Add labels and title\n",
    "plt.xlabel('Predicted')\n",
    "plt.ylabel('Actual')\n",
    "plt.title('Confusion Matrix Of kNN Model')\n",
    "\n",
    "# Show the plot\n",
    "plt.show()"
   ]
  },
  {
   "cell_type": "code",
   "execution_count": 68,
   "id": "fa7e22c6",
   "metadata": {},
   "outputs": [
    {
     "data": {
      "image/png": "[encoded data removed]",
      "text/plain": [
       "<Figure size 640x480 with 1 Axes>"
      ]
     },
     "metadata": {},
     "output_type": "display_data"
    }
   ],
   "source": [
    "model_names = ['LR', 'RF', 'KNN']\n",
    "accuracy_scores = [aclog*100,acRf*100,acknn*100]\n",
    "\n",
    "# Create a line plot of the accuracy scores\n",
    "# plt.plot(model_names, accuracy_scores)\n",
    "fig = plt.figure()\n",
    "ax = fig.add_axes([0,0,1,1])\n",
    "# Add labels and title\n",
    "# plt.xlabel('Model')\n",
    "# plt.ylabel('Accuracy')\n",
    "# plt.title('Accuracy of Different Models')\n",
    "\n",
    "# # Show the plot\n",
    "# plt.show()\n",
    "\n",
    "ax.bar(model_names,accuracy_scores)\n",
    "ax.set_ylabel('Accuracy Scores(%) ')\n",
    "ax.set_xlabel('Models')\n",
    "plt.show()"
   ]
  },
  {
   "cell_type": "code",
   "execution_count": 75,
   "id": "5a840fe2",
   "metadata": {},
   "outputs": [
    {
     "data": {
      "image/png": "[encoded data removed]",
      "text/plain": [
       "<Figure size 640x480 with 1 Axes>"
      ]
     },
     "metadata": {},
     "output_type": "display_data"
    }
   ],
   "source": [
    "X = ['LR','RF','KNN']\n",
    "Train = [log_train,rf_train,knn_train]\n",
    "Test = [log_test,rf_test,knn_test]\n",
    "  \n",
    "X_axis = np.arange(len(X))\n",
    "  \n",
    "plt.bar(X_axis - 0.2, Train, 0.4, label = 'Train')\n",
    "plt.bar(X_axis + 0.2, Test, 0.4, label = 'Test')\n",
    "  \n",
    "plt.xticks(X_axis, X)\n",
    "plt.xlabel(\"Models\")\n",
    "plt.ylabel(\"Acuraccy Score\")\n",
    "plt.title(\"Results for training and test accuracy.\")\n",
    "plt.legend()\n",
    "plt.show()"
   ]
  },
  {
   "cell_type": "code",
   "execution_count": null,
   "id": "ee52173c",
   "metadata": {},
   "outputs": [],
   "source": [
    "X = ['LR','RF','KNN']\n",
    "Train = [log_train,rf_train,knn_train]\n",
    "Test = [log_test,rf_test,knn_test]\n",
    "  \n",
    "X_axis = np.arange(len(X))\n",
    "  \n",
    "plt.bar(X_axis - 0.2, Train, 0.4, label = 'Train')\n",
    "plt.bar(X_axis + 0.2, Test, 0.4, label = 'Test')\n",
    "plt.bar(X_axis - 0.2, Test, 0.4, label = 'Test')\n",
    "  \n",
    "plt.xticks(X_axis, X)\n",
    "plt.xlabel(\"Models\")\n",
    "plt.ylabel(\"Acuraccy Score\")\n",
    "plt.title(\"Results for training and test accuracy.\")\n",
    "plt.legend()\n",
    "plt.show()"
   ]
  },
  {
   "cell_type": "code",
   "execution_count": null,
   "id": "a5c7f870",
   "metadata": {},
   "outputs": [],
   "source": []
  }
 ],
 "metadata": {
  "kernelspec": {
   "display_name": "Python 3 (ipykernel)",
   "language": "python",
   "name": "python3"
  },
  "language_info": {
   "codemirror_mode": {
    "name": "ipython",
    "version": 3
   },
   "file_extension": ".py",
   "mimetype": "text/x-python",
   "name": "python",
   "nbconvert_exporter": "python",
   "pygments_lexer": "ipython3",
   "version": "3.9.7"
  }
 },
 "nbformat": 4,
 "nbformat_minor": 5
}
